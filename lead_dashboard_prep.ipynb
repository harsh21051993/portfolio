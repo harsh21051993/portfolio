{
  "nbformat": 4,
  "nbformat_minor": 0,
  "metadata": {
    "colab": {
      "provenance": [],
      "mount_file_id": "1NUkYkuS4ZbuMP5kyTB9SZIAAH8Hqcwzh",
      "authorship_tag": "ABX9TyPd89QU/HgNF/EC0x0g0sht",
      "include_colab_link": true
    },
    "kernelspec": {
      "name": "python3",
      "display_name": "Python 3"
    },
    "language_info": {
      "name": "python"
    }
  },
  "cells": [
    {
      "cell_type": "markdown",
      "metadata": {
        "id": "view-in-github",
        "colab_type": "text"
      },
      "source": [
        "<a href=\"https://colab.research.google.com/github/harsh21051993/portfolio/blob/main/lead_dashboard_prep.ipynb\" target=\"_parent\"><img src=\"https://colab.research.google.com/assets/colab-badge.svg\" alt=\"Open In Colab\"/></a>"
      ]
    },
    {
      "cell_type": "markdown",
      "source": [
        "Sources\n",
        "[link1](https://medium.com/pipeline-a-data-engineering-resource/3-data-science-projects-that-got-me-12-interviews-and-1-that-got-me-in-trouble-f376682b4e21)\n",
        "[link2](https://medium.com/pipeline-a-data-engineering-resource/creating-the-dashboard-that-got-me-a-data-analyst-job-offer-de3f0d6b1771)"
      ],
      "metadata": {
        "id": "-p3tPZ4_uEEG"
      }
    },
    {
      "cell_type": "code",
      "execution_count": null,
      "metadata": {
        "id": "unCkEvp2Reh_"
      },
      "outputs": [],
      "source": [
        "import pandas as pd\n",
        "import numpy as np\n",
        "import matplotlib.pyplot as plt\n",
        "import seaborn as sns\n",
        "import sqlite3\n",
        "from pathlib import Path as Path\n",
        "from urllib import request\n",
        "\n",
        "%matplotlib inline\n",
        "\n",
        "# suppress warnings from final output\n",
        "import warnings\n",
        "warnings.simplefilter(\"ignore\")\n",
        "\n",
        "# set up to view all the info of the columns\n",
        "pd.set_option('display.max_columns', None)\n",
        "pd.set_option('display.max_rows', None)"
      ]
    },
    {
      "cell_type": "code",
      "source": [
        "#uni_names = request.urlretrieve(\"https://raw.githubusercontent.com/Hipo/university-domains-list/master/world_universities_and_domains.json\", \"uni.json\")"
      ],
      "metadata": {
        "id": "bIswrRKWY2ln"
      },
      "execution_count": null,
      "outputs": []
    },
    {
      "cell_type": "code",
      "source": [
        "edxcourses_df = pd.read_csv('edxcourses_df.csv')\n",
        "edxcourses_df.info()"
      ],
      "metadata": {
        "colab": {
          "base_uri": "https://localhost:8080/"
        },
        "id": "0S4X6y6Me6z8",
        "outputId": "6cae6fdc-0ce0-4906-d971-8552ff495a9f"
      },
      "execution_count": null,
      "outputs": [
        {
          "output_type": "stream",
          "name": "stdout",
          "text": [
            "<class 'pandas.core.frame.DataFrame'>\n",
            "RangeIndex: 975 entries, 0 to 974\n",
            "Data columns (total 16 columns):\n",
            " #   Column              Non-Null Count  Dtype \n",
            "---  ------              --------------  ----- \n",
            " 0   title               975 non-null    object\n",
            " 1   summary             922 non-null    object\n",
            " 2   n_enrolled          855 non-null    object\n",
            " 3   course_type         975 non-null    object\n",
            " 4   institution         975 non-null    object\n",
            " 5   instructors         972 non-null    object\n",
            " 6   Level               975 non-null    object\n",
            " 7   subject             975 non-null    object\n",
            " 8   language            975 non-null    object\n",
            " 9   subtitles           972 non-null    object\n",
            " 10  course_effort       975 non-null    object\n",
            " 11  course_length       975 non-null    object\n",
            " 12  price               975 non-null    object\n",
            " 13  course_description  935 non-null    object\n",
            " 14  course_syllabus     417 non-null    object\n",
            " 15  course_url          975 non-null    object\n",
            "dtypes: object(16)\n",
            "memory usage: 122.0+ KB\n"
          ]
        }
      ]
    },
    {
      "cell_type": "code",
      "source": [
        "numofsubjects = edxcourses_df['institution'].value_counts().sort_values(ascending=False)"
      ],
      "metadata": {
        "id": "PPB0t8JTgch-"
      },
      "execution_count": null,
      "outputs": []
    },
    {
      "cell_type": "code",
      "source": [
        "numofsubjects"
      ],
      "metadata": {
        "colab": {
          "base_uri": "https://localhost:8080/"
        },
        "id": "XpIwlSn9m-x0",
        "outputId": "c6814caa-38a0-4e00-e9ea-528c0a92911f"
      },
      "execution_count": null,
      "outputs": [
        {
          "output_type": "execute_result",
          "data": {
            "text/plain": [
              "Harvard University                                                                                          104\n",
              "Universitat Politècnica de Valencia                                                                          47\n",
              "Massachusetts Institute of Technology                                                                        41\n",
              "IBM                                                                                                          30\n",
              "Delft University of Technology                                                                               30\n",
              "Inter-American Development Bank                                                                              29\n",
              "The University of Queensland                                                                                 26\n",
              "The University of Michigan                                                                                   22\n",
              "Tecnológico de Monterrey                                                                                     21\n",
              "Columbia University                                                                                          20\n",
              "University of California, Berkeley                                                                           20\n",
              "Stanford University                                                                                          20\n",
              "Wageningen University & Research                                                                             18\n",
              "Universidad Autónoma de Madrid                                                                               17\n",
              "University of Adelaide                                                                                       17\n",
              "SDG Academy                                                                                                  16\n",
              "Universidades Anáhuac                                                                                        16\n",
              "Curtin University                                                                                            15\n",
              "The University of Maryland, College Park-University System of Maryland                                       15\n",
              "Universidad Galileo                                                                                          14\n",
              "Rochester Institute of Technology                                                                            14\n",
              "Doane University                                                                                             12\n",
              "Universidad Nacional de Córdoba                                                                              12\n",
              "Tsinghua University                                                                                          12\n",
              "University of Washington                                                                                     11\n",
              "The International Monetary Fund                                                                              11\n",
              "Indian Institute of Management Bangalore                                                                     11\n",
              "Universidad Carlos III de Madrid                                                                             11\n",
              "The Linux Foundation                                                                                         10\n",
              "Waseda University                                                                                            10\n",
              "University of Hong Kong                                                                                      10\n",
              "Pontificia Universidad Javeriana                                                                             10\n",
              "Université catholique de Louvain                                                                             10\n",
              "Berklee College of Music                                                                                      9\n",
              "Georgetown University                                                                                         9\n",
              "University of British Columbia                                                                                8\n",
              "The Georgia Institute of Technology                                                                           8\n",
              "NYIF                                                                                                          8\n",
              "University of Pennsylvania                                                                                    8\n",
              "The University of California, San Diego                                                                       8\n",
              "Universidad del Rosario                                                                                       8\n",
              "Wits University                                                                                               7\n",
              "Amazon Web Services                                                                                           7\n",
              "Babson College                                                                                                7\n",
              "New York University                                                                                           7\n",
              "The Hong Kong University of Science and Technology                                                            7\n",
              "Imperial College London                                                                                       7\n",
              "IITBombay                                                                                                     6\n",
              "École polytechnique fédérale de Lausanne                                                                      6\n",
              "Chalmers University of Technology                                                                             6\n",
              "Dartmouth_IMTx-Dartmouth College-IMT                                                                          6\n",
              "The Hong Kong Polytechnic University                                                                          6\n",
              "The Smithsonian Institution                                                                                   5\n",
              "MandarinX                                                                                                     5\n",
              "The World Wide Web Consortium (W3C)                                                                           5\n",
              "edX                                                                                                           5\n",
              "Imperial College Business School-Imperial College London                                                      5\n",
              "Kyoto University                                                                                              5\n",
              "Catalyst                                                                                                      5\n",
              "Australian National University                                                                                5\n",
              "Wellesley College                                                                                             4\n",
              "University System of Maryland-University of Maryland Global Campus                                            4\n",
              "Rice University                                                                                               4\n",
              "Technische Universität München                                                                                4\n",
              "Amnesty International                                                                                         4\n",
              "Rolls-Royce                                                                                                   4\n",
              "The University of Texas at Austin                                                                             4\n",
              "Università degli Studi di Napoli Federico II                                                                  4\n",
              "World Bank Group                                                                                              4\n",
              "IsraelX-Tel Aviv University                                                                                   4\n",
              "LOGYCA                                                                                                        4\n",
              "Arizona State University                                                                                      3\n",
              "Queen’s University                                                                                            3\n",
              "ETH Zurich                                                                                                    3\n",
              "Tokyo Institute of Technology                                                                                 3\n",
              "Davidson Next                                                                                                 3\n",
              "United Arab Emirates University                                                                               3\n",
              "Western Governors University                                                                                  3\n",
              "KU Leuven University                                                                                          3\n",
              "Boston University                                                                                             2\n",
              "SchoolYourself                                                                                                2\n",
              "The Wharton School of the University of Pennsylvania                                                          2\n",
              "Red Hat                                                                                                       2\n",
              "Davidson College                                                                                              2\n",
              "Dartmouth College                                                                                             2\n",
              "Cornell University                                                                                            2\n",
              "Salisbury University-University System of Maryland                                                            2\n",
              "National Research Nuclear University                                                                          2\n",
              "Delft University of Technology-Wageningen University & Research-Delft University & Wageningen University      2\n",
              "The University of Iceland                                                                                     2\n",
              "Ural Federal University                                                                                       2\n",
              "Université de Montréal                                                                                        2\n",
              "The University of Edinburgh                                                                                   2\n",
              "HEC Montréal                                                                                                  2\n",
              "The University of Texas of the Permian Basin                                                                  1\n",
              "University of Oxford                                                                                          1\n",
              "The National University of Singapore                                                                          1\n",
              "Educational Testing Service                                                                                   1\n",
              "The University of Tokyo                                                                                       1\n",
              "University of Toronto                                                                                         1\n",
              "University of Texas at Arlington                                                                              1\n",
              "DelftXRWTHx-Delft University of Technology-RWTH Aachen University                                             1\n",
              "RWTH Aachen University                                                                                        1\n",
              "University System of Maryland-The University of Maryland, College Park                                        1\n",
              "The University of Michigan-Microsoft Education                                                                1\n",
              "The Islamic Research and Training Institute                                                                   1\n",
              "IsraelX                                                                                                       1\n",
              "University of Baltimore-University System of Maryland                                                         1\n",
              "IMT                                                                                                           1\n",
              "Arm Education                                                                                                 1\n",
              "University of Maryland Global Campus-University System of Maryland                                            1\n",
              "Name: institution, dtype: int64"
            ]
          },
          "metadata": {},
          "execution_count": 78
        }
      ]
    },
    {
      "cell_type": "code",
      "source": [
        "edxcourses_df['total_subjects'] = 0"
      ],
      "metadata": {
        "id": "ZknBMZTEhmII"
      },
      "execution_count": null,
      "outputs": []
    },
    {
      "cell_type": "code",
      "source": [
        "for i in range(len(edxcourses_df)):\n",
        "  edxcourses_df['total_subjects'][i] = numofsubjects.at[edxcourses_df.loc[i].at[\"institution\"]]\n",
        "\n",
        "#numofsubjects.at[\"Chemistry\"]"
      ],
      "metadata": {
        "id": "R-gCY0Kplxni"
      },
      "execution_count": null,
      "outputs": []
    },
    {
      "cell_type": "code",
      "source": [
        "edxcourses_df.head(10)"
      ],
      "metadata": {
        "colab": {
          "base_uri": "https://localhost:8080/",
          "height": 1000
        },
        "id": "KqYwyyuKlzbt",
        "outputId": "cfe02da4-5a76-4533-c0fa-f2bef10da5e2"
      },
      "execution_count": null,
      "outputs": [
        {
          "output_type": "execute_result",
          "data": {
            "text/plain": [
              "                                               title  \\\n",
              "0                                How to Learn Online   \n",
              "1  Programming for Everybody (Getting Started wit...   \n",
              "2            CS50's Introduction to Computer Science   \n",
              "3                                 The Analytics Edge   \n",
              "4  Marketing Analytics: Marketing Measurement Str...   \n",
              "5                 Introduction to Project Management   \n",
              "6                      Leading High-Performing Teams   \n",
              "7               The Foundations of Happiness at Work   \n",
              "8  Managing Study, Stress and Mental Health at Un...   \n",
              "9                      Six Sigma: Define and Measure   \n",
              "\n",
              "                                             summary n_enrolled  \\\n",
              "0  Learn essential strategies for successful onli...    124,980   \n",
              "1  This course is a \"no prerequisite\" introductio...    293,864   \n",
              "2  An introduction to the intellectual enterprise...  2,442,271   \n",
              "3  Through inspiring examples and stories, discov...    129,555   \n",
              "4     This course is part of a MicroMasters® Program     81,140   \n",
              "5  Learn the principles of project management and...    301,793   \n",
              "6  Learn how to motivate, engage and empower peop...     32,847   \n",
              "7  Learn why happiness at work matters and how to...     67,073   \n",
              "8  Develop a clearer understanding of what mental...     23,061   \n",
              "9  An introduction to the Six Sigma methodology a...     92,411   \n",
              "\n",
              "                           course_type                            institution  \\\n",
              "0              Self-paced on your time                                    edX   \n",
              "1              Self-paced on your time             The University of Michigan   \n",
              "2              Self-paced on your time                     Harvard University   \n",
              "3  Instructor-led on a course schedule  Massachusetts Institute of Technology   \n",
              "4              Self-paced on your time     University of California, Berkeley   \n",
              "5              Self-paced on your time                 University of Adelaide   \n",
              "6              Self-paced on your time           The University of Queensland   \n",
              "7              Self-paced on your time     University of California, Berkeley   \n",
              "8              Self-paced on your time                      Curtin University   \n",
              "9              Self-paced on your time         Technische Universität München   \n",
              "\n",
              "                                         instructors         Level  \\\n",
              "0            Nina Huntemann-Robyn Belair-Ben Piscopo  Introductory   \n",
              "1                                  Charles Severance  Introductory   \n",
              "2                 David J. Malan-Doug Lloyd-Brian Yu  Introductory   \n",
              "3  Dimitris Bertsimas-Allison O'Hair-John Silberh...  Intermediate   \n",
              "4                                     Stephan Sorger  Introductory   \n",
              "5  Frank Schultmann-Noel Lindsay-Anton Jordaan-Jo...  Introductory   \n",
              "6                                   Tyler G. Okimoto  Intermediate   \n",
              "7               Dacher Keltner-Emiliana Simon-Thomas  Introductory   \n",
              "8  Ben Milbourn-Craig Thompson-Sonya Girdler-Fran...  Introductory   \n",
              "9                            Martin Grunow-Holly Ott  Introductory   \n",
              "\n",
              "                        subject language subtitles         course_effort  \\\n",
              "0  Education & Teacher Training  English   English    2–3 hours per week   \n",
              "1              Computer Science  English   English    2–4 hours per week   \n",
              "2              Computer Science  English   English   6–18 hours per week   \n",
              "3    Data Analysis & Statistics  English   English  10–15 hours per week   \n",
              "4              Computer Science  English   English    5–7 hours per week   \n",
              "5         Business & Management  English   English    2–3 hours per week   \n",
              "6                 Communication  English   English   8–10 hours per week   \n",
              "7         Business & Management  English   English    2–3 hours per week   \n",
              "8               Health & Safety  English   English    1–3 hours per week   \n",
              "9         Business & Management  English   English    3–4 hours per week   \n",
              "\n",
              "  course_length                                         price  \\\n",
              "0       2 Weeks   FREE-Add a Verified Certificate for $49 USD   \n",
              "1       7 Weeks   FREE-Add a Verified Certificate for $49 USD   \n",
              "2      12 Weeks   FREE-Add a Verified Certificate for $90 USD   \n",
              "3      13 Weeks  FREE-Add a Verified Certificate for $199 USD   \n",
              "4       4 Weeks  FREE-Add a Verified Certificate for $249 USD   \n",
              "5       6 Weeks  FREE-Add a Verified Certificate for $199 USD   \n",
              "6      10 Weeks    FREE-Add a Verified Certificate for $5 USD   \n",
              "7       4 Weeks  FREE-Add a Verified Certificate for $199 USD   \n",
              "8       2 Weeks   FREE-Add a Verified Certificate for $49 USD   \n",
              "9       8 Weeks   FREE-Add a Verified Certificate for $99 USD   \n",
              "\n",
              "                                  course_description  \\\n",
              "0  Designed for those who are new to elearning, t...   \n",
              "1  This course aims to teach everyone the basics ...   \n",
              "2  This is CS50x , Harvard University's introduct...   \n",
              "3  In the last decade, the amount of data availab...   \n",
              "4  Begin your journey in a new career in marketin...   \n",
              "5  Project management is an essential skill-set f...   \n",
              "6  This course will blend business theory and rea...   \n",
              "7  This course explains what happiness at work lo...   \n",
              "8  This short course is a German-Australian colla...   \n",
              "9  Understand the background and meaning of Six S...   \n",
              "\n",
              "                                     course_syllabus  \\\n",
              "0  Welcome - We start with opportunities to meet ...   \n",
              "1                                                NaN   \n",
              "2                                                NaN   \n",
              "3                                                NaN   \n",
              "4                                                NaN   \n",
              "5                                                NaN   \n",
              "6  MODULE 1: INTRODUCTION TO TEAMS\\nFocuses on re...   \n",
              "7                                                NaN   \n",
              "8  Module 1: Mental fitnessBy the end of this mod...   \n",
              "9  Week 1: Six Sigma Introduction\\nIntroduction t...   \n",
              "\n",
              "                                          course_url  total_subjects  \n",
              "0     https://www.edx.org/course/how-to-learn-online               5  \n",
              "1  https://www.edx.org/course/programming-for-eve...              22  \n",
              "2  https://www.edx.org/course/cs50s-introduction-...             104  \n",
              "3      https://www.edx.org/course/the-analytics-edge              41  \n",
              "4  https://www.edx.org/course/marketing-analytics...              20  \n",
              "5  https://www.edx.org/course/introduction-to-pro...              17  \n",
              "6  https://www.edx.org/course/leading-high-perfor...              26  \n",
              "7  https://www.edx.org/course/the-foundations-of-...              20  \n",
              "8  https://www.edx.org/course/managing-study-stre...              15  \n",
              "9  https://www.edx.org/course/six-sigma-define-an...               4  "
            ],
            "text/html": [
              "\n",
              "  <div id=\"df-11695f91-7197-4940-9042-e13ac27f0fae\">\n",
              "    <div class=\"colab-df-container\">\n",
              "      <div>\n",
              "<style scoped>\n",
              "    .dataframe tbody tr th:only-of-type {\n",
              "        vertical-align: middle;\n",
              "    }\n",
              "\n",
              "    .dataframe tbody tr th {\n",
              "        vertical-align: top;\n",
              "    }\n",
              "\n",
              "    .dataframe thead th {\n",
              "        text-align: right;\n",
              "    }\n",
              "</style>\n",
              "<table border=\"1\" class=\"dataframe\">\n",
              "  <thead>\n",
              "    <tr style=\"text-align: right;\">\n",
              "      <th></th>\n",
              "      <th>title</th>\n",
              "      <th>summary</th>\n",
              "      <th>n_enrolled</th>\n",
              "      <th>course_type</th>\n",
              "      <th>institution</th>\n",
              "      <th>instructors</th>\n",
              "      <th>Level</th>\n",
              "      <th>subject</th>\n",
              "      <th>language</th>\n",
              "      <th>subtitles</th>\n",
              "      <th>course_effort</th>\n",
              "      <th>course_length</th>\n",
              "      <th>price</th>\n",
              "      <th>course_description</th>\n",
              "      <th>course_syllabus</th>\n",
              "      <th>course_url</th>\n",
              "      <th>total_subjects</th>\n",
              "    </tr>\n",
              "  </thead>\n",
              "  <tbody>\n",
              "    <tr>\n",
              "      <th>0</th>\n",
              "      <td>How to Learn Online</td>\n",
              "      <td>Learn essential strategies for successful onli...</td>\n",
              "      <td>124,980</td>\n",
              "      <td>Self-paced on your time</td>\n",
              "      <td>edX</td>\n",
              "      <td>Nina Huntemann-Robyn Belair-Ben Piscopo</td>\n",
              "      <td>Introductory</td>\n",
              "      <td>Education &amp; Teacher Training</td>\n",
              "      <td>English</td>\n",
              "      <td>English</td>\n",
              "      <td>2–3 hours per week</td>\n",
              "      <td>2 Weeks</td>\n",
              "      <td>FREE-Add a Verified Certificate for $49 USD</td>\n",
              "      <td>Designed for those who are new to elearning, t...</td>\n",
              "      <td>Welcome - We start with opportunities to meet ...</td>\n",
              "      <td>https://www.edx.org/course/how-to-learn-online</td>\n",
              "      <td>5</td>\n",
              "    </tr>\n",
              "    <tr>\n",
              "      <th>1</th>\n",
              "      <td>Programming for Everybody (Getting Started wit...</td>\n",
              "      <td>This course is a \"no prerequisite\" introductio...</td>\n",
              "      <td>293,864</td>\n",
              "      <td>Self-paced on your time</td>\n",
              "      <td>The University of Michigan</td>\n",
              "      <td>Charles Severance</td>\n",
              "      <td>Introductory</td>\n",
              "      <td>Computer Science</td>\n",
              "      <td>English</td>\n",
              "      <td>English</td>\n",
              "      <td>2–4 hours per week</td>\n",
              "      <td>7 Weeks</td>\n",
              "      <td>FREE-Add a Verified Certificate for $49 USD</td>\n",
              "      <td>This course aims to teach everyone the basics ...</td>\n",
              "      <td>NaN</td>\n",
              "      <td>https://www.edx.org/course/programming-for-eve...</td>\n",
              "      <td>22</td>\n",
              "    </tr>\n",
              "    <tr>\n",
              "      <th>2</th>\n",
              "      <td>CS50's Introduction to Computer Science</td>\n",
              "      <td>An introduction to the intellectual enterprise...</td>\n",
              "      <td>2,442,271</td>\n",
              "      <td>Self-paced on your time</td>\n",
              "      <td>Harvard University</td>\n",
              "      <td>David J. Malan-Doug Lloyd-Brian Yu</td>\n",
              "      <td>Introductory</td>\n",
              "      <td>Computer Science</td>\n",
              "      <td>English</td>\n",
              "      <td>English</td>\n",
              "      <td>6–18 hours per week</td>\n",
              "      <td>12 Weeks</td>\n",
              "      <td>FREE-Add a Verified Certificate for $90 USD</td>\n",
              "      <td>This is CS50x , Harvard University's introduct...</td>\n",
              "      <td>NaN</td>\n",
              "      <td>https://www.edx.org/course/cs50s-introduction-...</td>\n",
              "      <td>104</td>\n",
              "    </tr>\n",
              "    <tr>\n",
              "      <th>3</th>\n",
              "      <td>The Analytics Edge</td>\n",
              "      <td>Through inspiring examples and stories, discov...</td>\n",
              "      <td>129,555</td>\n",
              "      <td>Instructor-led on a course schedule</td>\n",
              "      <td>Massachusetts Institute of Technology</td>\n",
              "      <td>Dimitris Bertsimas-Allison O'Hair-John Silberh...</td>\n",
              "      <td>Intermediate</td>\n",
              "      <td>Data Analysis &amp; Statistics</td>\n",
              "      <td>English</td>\n",
              "      <td>English</td>\n",
              "      <td>10–15 hours per week</td>\n",
              "      <td>13 Weeks</td>\n",
              "      <td>FREE-Add a Verified Certificate for $199 USD</td>\n",
              "      <td>In the last decade, the amount of data availab...</td>\n",
              "      <td>NaN</td>\n",
              "      <td>https://www.edx.org/course/the-analytics-edge</td>\n",
              "      <td>41</td>\n",
              "    </tr>\n",
              "    <tr>\n",
              "      <th>4</th>\n",
              "      <td>Marketing Analytics: Marketing Measurement Str...</td>\n",
              "      <td>This course is part of a MicroMasters® Program</td>\n",
              "      <td>81,140</td>\n",
              "      <td>Self-paced on your time</td>\n",
              "      <td>University of California, Berkeley</td>\n",
              "      <td>Stephan Sorger</td>\n",
              "      <td>Introductory</td>\n",
              "      <td>Computer Science</td>\n",
              "      <td>English</td>\n",
              "      <td>English</td>\n",
              "      <td>5–7 hours per week</td>\n",
              "      <td>4 Weeks</td>\n",
              "      <td>FREE-Add a Verified Certificate for $249 USD</td>\n",
              "      <td>Begin your journey in a new career in marketin...</td>\n",
              "      <td>NaN</td>\n",
              "      <td>https://www.edx.org/course/marketing-analytics...</td>\n",
              "      <td>20</td>\n",
              "    </tr>\n",
              "    <tr>\n",
              "      <th>5</th>\n",
              "      <td>Introduction to Project Management</td>\n",
              "      <td>Learn the principles of project management and...</td>\n",
              "      <td>301,793</td>\n",
              "      <td>Self-paced on your time</td>\n",
              "      <td>University of Adelaide</td>\n",
              "      <td>Frank Schultmann-Noel Lindsay-Anton Jordaan-Jo...</td>\n",
              "      <td>Introductory</td>\n",
              "      <td>Business &amp; Management</td>\n",
              "      <td>English</td>\n",
              "      <td>English</td>\n",
              "      <td>2–3 hours per week</td>\n",
              "      <td>6 Weeks</td>\n",
              "      <td>FREE-Add a Verified Certificate for $199 USD</td>\n",
              "      <td>Project management is an essential skill-set f...</td>\n",
              "      <td>NaN</td>\n",
              "      <td>https://www.edx.org/course/introduction-to-pro...</td>\n",
              "      <td>17</td>\n",
              "    </tr>\n",
              "    <tr>\n",
              "      <th>6</th>\n",
              "      <td>Leading High-Performing Teams</td>\n",
              "      <td>Learn how to motivate, engage and empower peop...</td>\n",
              "      <td>32,847</td>\n",
              "      <td>Self-paced on your time</td>\n",
              "      <td>The University of Queensland</td>\n",
              "      <td>Tyler G. Okimoto</td>\n",
              "      <td>Intermediate</td>\n",
              "      <td>Communication</td>\n",
              "      <td>English</td>\n",
              "      <td>English</td>\n",
              "      <td>8–10 hours per week</td>\n",
              "      <td>10 Weeks</td>\n",
              "      <td>FREE-Add a Verified Certificate for $5 USD</td>\n",
              "      <td>This course will blend business theory and rea...</td>\n",
              "      <td>MODULE 1: INTRODUCTION TO TEAMS\\nFocuses on re...</td>\n",
              "      <td>https://www.edx.org/course/leading-high-perfor...</td>\n",
              "      <td>26</td>\n",
              "    </tr>\n",
              "    <tr>\n",
              "      <th>7</th>\n",
              "      <td>The Foundations of Happiness at Work</td>\n",
              "      <td>Learn why happiness at work matters and how to...</td>\n",
              "      <td>67,073</td>\n",
              "      <td>Self-paced on your time</td>\n",
              "      <td>University of California, Berkeley</td>\n",
              "      <td>Dacher Keltner-Emiliana Simon-Thomas</td>\n",
              "      <td>Introductory</td>\n",
              "      <td>Business &amp; Management</td>\n",
              "      <td>English</td>\n",
              "      <td>English</td>\n",
              "      <td>2–3 hours per week</td>\n",
              "      <td>4 Weeks</td>\n",
              "      <td>FREE-Add a Verified Certificate for $199 USD</td>\n",
              "      <td>This course explains what happiness at work lo...</td>\n",
              "      <td>NaN</td>\n",
              "      <td>https://www.edx.org/course/the-foundations-of-...</td>\n",
              "      <td>20</td>\n",
              "    </tr>\n",
              "    <tr>\n",
              "      <th>8</th>\n",
              "      <td>Managing Study, Stress and Mental Health at Un...</td>\n",
              "      <td>Develop a clearer understanding of what mental...</td>\n",
              "      <td>23,061</td>\n",
              "      <td>Self-paced on your time</td>\n",
              "      <td>Curtin University</td>\n",
              "      <td>Ben Milbourn-Craig Thompson-Sonya Girdler-Fran...</td>\n",
              "      <td>Introductory</td>\n",
              "      <td>Health &amp; Safety</td>\n",
              "      <td>English</td>\n",
              "      <td>English</td>\n",
              "      <td>1–3 hours per week</td>\n",
              "      <td>2 Weeks</td>\n",
              "      <td>FREE-Add a Verified Certificate for $49 USD</td>\n",
              "      <td>This short course is a German-Australian colla...</td>\n",
              "      <td>Module 1: Mental fitnessBy the end of this mod...</td>\n",
              "      <td>https://www.edx.org/course/managing-study-stre...</td>\n",
              "      <td>15</td>\n",
              "    </tr>\n",
              "    <tr>\n",
              "      <th>9</th>\n",
              "      <td>Six Sigma: Define and Measure</td>\n",
              "      <td>An introduction to the Six Sigma methodology a...</td>\n",
              "      <td>92,411</td>\n",
              "      <td>Self-paced on your time</td>\n",
              "      <td>Technische Universität München</td>\n",
              "      <td>Martin Grunow-Holly Ott</td>\n",
              "      <td>Introductory</td>\n",
              "      <td>Business &amp; Management</td>\n",
              "      <td>English</td>\n",
              "      <td>English</td>\n",
              "      <td>3–4 hours per week</td>\n",
              "      <td>8 Weeks</td>\n",
              "      <td>FREE-Add a Verified Certificate for $99 USD</td>\n",
              "      <td>Understand the background and meaning of Six S...</td>\n",
              "      <td>Week 1: Six Sigma Introduction\\nIntroduction t...</td>\n",
              "      <td>https://www.edx.org/course/six-sigma-define-an...</td>\n",
              "      <td>4</td>\n",
              "    </tr>\n",
              "  </tbody>\n",
              "</table>\n",
              "</div>\n",
              "      <button class=\"colab-df-convert\" onclick=\"convertToInteractive('df-11695f91-7197-4940-9042-e13ac27f0fae')\"\n",
              "              title=\"Convert this dataframe to an interactive table.\"\n",
              "              style=\"display:none;\">\n",
              "        \n",
              "  <svg xmlns=\"http://www.w3.org/2000/svg\" height=\"24px\"viewBox=\"0 0 24 24\"\n",
              "       width=\"24px\">\n",
              "    <path d=\"M0 0h24v24H0V0z\" fill=\"none\"/>\n",
              "    <path d=\"M18.56 5.44l.94 2.06.94-2.06 2.06-.94-2.06-.94-.94-2.06-.94 2.06-2.06.94zm-11 1L8.5 8.5l.94-2.06 2.06-.94-2.06-.94L8.5 2.5l-.94 2.06-2.06.94zm10 10l.94 2.06.94-2.06 2.06-.94-2.06-.94-.94-2.06-.94 2.06-2.06.94z\"/><path d=\"M17.41 7.96l-1.37-1.37c-.4-.4-.92-.59-1.43-.59-.52 0-1.04.2-1.43.59L10.3 9.45l-7.72 7.72c-.78.78-.78 2.05 0 2.83L4 21.41c.39.39.9.59 1.41.59.51 0 1.02-.2 1.41-.59l7.78-7.78 2.81-2.81c.8-.78.8-2.07 0-2.86zM5.41 20L4 18.59l7.72-7.72 1.47 1.35L5.41 20z\"/>\n",
              "  </svg>\n",
              "      </button>\n",
              "      \n",
              "  <style>\n",
              "    .colab-df-container {\n",
              "      display:flex;\n",
              "      flex-wrap:wrap;\n",
              "      gap: 12px;\n",
              "    }\n",
              "\n",
              "    .colab-df-convert {\n",
              "      background-color: #E8F0FE;\n",
              "      border: none;\n",
              "      border-radius: 50%;\n",
              "      cursor: pointer;\n",
              "      display: none;\n",
              "      fill: #1967D2;\n",
              "      height: 32px;\n",
              "      padding: 0 0 0 0;\n",
              "      width: 32px;\n",
              "    }\n",
              "\n",
              "    .colab-df-convert:hover {\n",
              "      background-color: #E2EBFA;\n",
              "      box-shadow: 0px 1px 2px rgba(60, 64, 67, 0.3), 0px 1px 3px 1px rgba(60, 64, 67, 0.15);\n",
              "      fill: #174EA6;\n",
              "    }\n",
              "\n",
              "    [theme=dark] .colab-df-convert {\n",
              "      background-color: #3B4455;\n",
              "      fill: #D2E3FC;\n",
              "    }\n",
              "\n",
              "    [theme=dark] .colab-df-convert:hover {\n",
              "      background-color: #434B5C;\n",
              "      box-shadow: 0px 1px 3px 1px rgba(0, 0, 0, 0.15);\n",
              "      filter: drop-shadow(0px 1px 2px rgba(0, 0, 0, 0.3));\n",
              "      fill: #FFFFFF;\n",
              "    }\n",
              "  </style>\n",
              "\n",
              "      <script>\n",
              "        const buttonEl =\n",
              "          document.querySelector('#df-11695f91-7197-4940-9042-e13ac27f0fae button.colab-df-convert');\n",
              "        buttonEl.style.display =\n",
              "          google.colab.kernel.accessAllowed ? 'block' : 'none';\n",
              "\n",
              "        async function convertToInteractive(key) {\n",
              "          const element = document.querySelector('#df-11695f91-7197-4940-9042-e13ac27f0fae');\n",
              "          const dataTable =\n",
              "            await google.colab.kernel.invokeFunction('convertToInteractive',\n",
              "                                                     [key], {});\n",
              "          if (!dataTable) return;\n",
              "\n",
              "          const docLinkHtml = 'Like what you see? Visit the ' +\n",
              "            '<a target=\"_blank\" href=https://colab.research.google.com/notebooks/data_table.ipynb>data table notebook</a>'\n",
              "            + ' to learn more about interactive tables.';\n",
              "          element.innerHTML = '';\n",
              "          dataTable['output_type'] = 'display_data';\n",
              "          await google.colab.output.renderOutput(dataTable, element);\n",
              "          const docLink = document.createElement('div');\n",
              "          docLink.innerHTML = docLinkHtml;\n",
              "          element.appendChild(docLink);\n",
              "        }\n",
              "      </script>\n",
              "    </div>\n",
              "  </div>\n",
              "  "
            ]
          },
          "metadata": {},
          "execution_count": 81
        }
      ]
    },
    {
      "cell_type": "code",
      "source": [
        "edxcourses_df['n_enrolled'] = edxcourses_df['n_enrolled'].str.replace(',','')\n",
        "edxcourses_df['price'] = edxcourses_df['price'].str.replace('FREE-Add a Verified Certificate for', '')\n",
        "edxcourses_df['price'] = edxcourses_df['price'].str.replace('$', '')\n",
        "edxcourses_df['price'] = edxcourses_df['price'].str.replace('USD', '')\n",
        "edxcourses_df['course_length'] = edxcourses_df['course_length'].str.replace('Weeks', '')"
      ],
      "metadata": {
        "id": "no40hSNufB2d"
      },
      "execution_count": null,
      "outputs": []
    },
    {
      "cell_type": "code",
      "source": [
        "edxcourses_df['n_enrolled'] = edxcourses_df['n_enrolled'].fillna(0)\n",
        "edxcourses_df['n_enrolled'] = edxcourses_df['n_enrolled'].astype(int)\n",
        "edxcourses_df['price'] = edxcourses_df['price'].astype(float)\n",
        "edxcourses_df['course_length'] = edxcourses_df['course_length'].astype(int)\n",
        "edxcourses_df.isna().sum()"
      ],
      "metadata": {
        "colab": {
          "base_uri": "https://localhost:8080/"
        },
        "id": "kwM1uITEfrcY",
        "outputId": "9cdce373-513f-4405-9925-1145e75f4ca9"
      },
      "execution_count": null,
      "outputs": [
        {
          "output_type": "execute_result",
          "data": {
            "text/plain": [
              "title                   0\n",
              "summary                53\n",
              "n_enrolled              0\n",
              "course_type             0\n",
              "institution             0\n",
              "instructors             3\n",
              "Level                   0\n",
              "subject                 0\n",
              "language                0\n",
              "subtitles               3\n",
              "course_effort           0\n",
              "course_length           0\n",
              "price                   0\n",
              "course_description     40\n",
              "course_syllabus       558\n",
              "course_url              0\n",
              "total_subjects          0\n",
              "dtype: int64"
            ]
          },
          "metadata": {},
          "execution_count": 84
        }
      ]
    },
    {
      "cell_type": "code",
      "source": [
        "edxcourses_df['summary'] = edxcourses_df['summary'].fillna('Unlisted')\n",
        "edxcourses_df['instructors'] = edxcourses_df['instructors'].fillna('Unlisted')\n",
        "edxcourses_df['subtitles'] = edxcourses_df['subtitles'].fillna('English')\n",
        "edxcourses_df['course_description'] = edxcourses_df['course_description'].fillna('Unlisted')\n",
        "edxcourses_df['course_syllabus'] = edxcourses_df['course_syllabus'].fillna('Unlisted')\n",
        "\n",
        "del edxcourses_df['course_url']\n",
        "\n",
        "edxcourses_df['Level'] = edxcourses_df['Level'].astype('category')\n",
        "edxcourses_df['Level'] = edxcourses_df['Level'].cat.codes\n",
        "edxcourses_df['course_type'] = edxcourses_df['course_type'].astype('category')\n",
        "edxcourses_df['course_type'] = edxcourses_df['course_type'].cat.codes\n",
        "\n",
        "edxcourses_df.info()"
      ],
      "metadata": {
        "id": "jKy6hgf7gCno",
        "colab": {
          "base_uri": "https://localhost:8080/"
        },
        "outputId": "91e7953d-857a-402e-b2e3-a6fb2ce06632"
      },
      "execution_count": null,
      "outputs": [
        {
          "output_type": "stream",
          "name": "stdout",
          "text": [
            "<class 'pandas.core.frame.DataFrame'>\n",
            "RangeIndex: 975 entries, 0 to 974\n",
            "Data columns (total 16 columns):\n",
            " #   Column              Non-Null Count  Dtype  \n",
            "---  ------              --------------  -----  \n",
            " 0   title               975 non-null    object \n",
            " 1   summary             975 non-null    object \n",
            " 2   n_enrolled          975 non-null    int64  \n",
            " 3   course_type         975 non-null    int8   \n",
            " 4   institution         975 non-null    object \n",
            " 5   instructors         975 non-null    object \n",
            " 6   Level               975 non-null    int8   \n",
            " 7   subject             975 non-null    object \n",
            " 8   language            975 non-null    object \n",
            " 9   subtitles           975 non-null    object \n",
            " 10  course_effort       975 non-null    object \n",
            " 11  course_length       975 non-null    int64  \n",
            " 12  price               975 non-null    float64\n",
            " 13  course_description  975 non-null    object \n",
            " 14  course_syllabus     975 non-null    object \n",
            " 15  total_subjects      975 non-null    int64  \n",
            "dtypes: float64(1), int64(3), int8(2), object(10)\n",
            "memory usage: 108.7+ KB\n"
          ]
        }
      ]
    },
    {
      "cell_type": "code",
      "source": [
        "edxcourses_df['subject'].value_counts().sort_values(ascending=True).plot(kind=\"barh\", figsize=(10,10))\n",
        "plt.show()"
      ],
      "metadata": {
        "colab": {
          "base_uri": "https://localhost:8080/",
          "height": 592
        },
        "id": "rAl46PZ9iFlp",
        "outputId": "f0c69b13-14b7-4674-8c91-df9d01aebf23"
      },
      "execution_count": null,
      "outputs": [
        {
          "output_type": "display_data",
          "data": {
            "text/plain": [
              "<Figure size 720x720 with 1 Axes>"
            ],
            "image/png": "[encoded data removed]"
          },
          "metadata": {
            "needs_background": "light"
          }
        }
      ]
    },
    {
      "cell_type": "code",
      "source": [
        "edxcourses_df.head()"
      ],
      "metadata": {
        "colab": {
          "base_uri": "https://localhost:8080/",
          "height": 600
        },
        "id": "FzwgkLywKgZm",
        "outputId": "89a8e0db-9b83-4642-f4b0-8d4fcaa7af2a"
      },
      "execution_count": null,
      "outputs": [
        {
          "output_type": "execute_result",
          "data": {
            "text/plain": [
              "                                               title  \\\n",
              "0                                How to Learn Online   \n",
              "1  Programming for Everybody (Getting Started wit...   \n",
              "2            CS50's Introduction to Computer Science   \n",
              "3                                 The Analytics Edge   \n",
              "4  Marketing Analytics: Marketing Measurement Str...   \n",
              "\n",
              "                                             summary  n_enrolled  course_type  \\\n",
              "0  Learn essential strategies for successful onli...      124980            1   \n",
              "1  This course is a \"no prerequisite\" introductio...      293864            1   \n",
              "2  An introduction to the intellectual enterprise...     2442271            1   \n",
              "3  Through inspiring examples and stories, discov...      129555            0   \n",
              "4     This course is part of a MicroMasters® Program       81140            1   \n",
              "\n",
              "                             institution  \\\n",
              "0                                    edX   \n",
              "1             The University of Michigan   \n",
              "2                     Harvard University   \n",
              "3  Massachusetts Institute of Technology   \n",
              "4     University of California, Berkeley   \n",
              "\n",
              "                                         instructors  Level  \\\n",
              "0            Nina Huntemann-Robyn Belair-Ben Piscopo      2   \n",
              "1                                  Charles Severance      2   \n",
              "2                 David J. Malan-Doug Lloyd-Brian Yu      2   \n",
              "3  Dimitris Bertsimas-Allison O'Hair-John Silberh...      1   \n",
              "4                                     Stephan Sorger      2   \n",
              "\n",
              "                        subject language subtitles         course_effort  \\\n",
              "0  Education & Teacher Training  English   English    2–3 hours per week   \n",
              "1              Computer Science  English   English    2–4 hours per week   \n",
              "2              Computer Science  English   English   6–18 hours per week   \n",
              "3    Data Analysis & Statistics  English   English  10–15 hours per week   \n",
              "4              Computer Science  English   English    5–7 hours per week   \n",
              "\n",
              "   course_length  price                                 course_description  \\\n",
              "0              2   49.0  Designed for those who are new to elearning, t...   \n",
              "1              7   49.0  This course aims to teach everyone the basics ...   \n",
              "2             12   90.0  This is CS50x , Harvard University's introduct...   \n",
              "3             13  199.0  In the last decade, the amount of data availab...   \n",
              "4              4  249.0  Begin your journey in a new career in marketin...   \n",
              "\n",
              "                                     course_syllabus  total_subjects  \n",
              "0  Welcome - We start with opportunities to meet ...               5  \n",
              "1                                           Unlisted              22  \n",
              "2                                           Unlisted             104  \n",
              "3                                           Unlisted              41  \n",
              "4                                           Unlisted              20  "
            ],
            "text/html": [
              "\n",
              "  <div id=\"df-652661dd-3309-4e09-b8eb-6865b28e77f3\">\n",
              "    <div class=\"colab-df-container\">\n",
              "      <div>\n",
              "<style scoped>\n",
              "    .dataframe tbody tr th:only-of-type {\n",
              "        vertical-align: middle;\n",
              "    }\n",
              "\n",
              "    .dataframe tbody tr th {\n",
              "        vertical-align: top;\n",
              "    }\n",
              "\n",
              "    .dataframe thead th {\n",
              "        text-align: right;\n",
              "    }\n",
              "</style>\n",
              "<table border=\"1\" class=\"dataframe\">\n",
              "  <thead>\n",
              "    <tr style=\"text-align: right;\">\n",
              "      <th></th>\n",
              "      <th>title</th>\n",
              "      <th>summary</th>\n",
              "      <th>n_enrolled</th>\n",
              "      <th>course_type</th>\n",
              "      <th>institution</th>\n",
              "      <th>instructors</th>\n",
              "      <th>Level</th>\n",
              "      <th>subject</th>\n",
              "      <th>language</th>\n",
              "      <th>subtitles</th>\n",
              "      <th>course_effort</th>\n",
              "      <th>course_length</th>\n",
              "      <th>price</th>\n",
              "      <th>course_description</th>\n",
              "      <th>course_syllabus</th>\n",
              "      <th>total_subjects</th>\n",
              "    </tr>\n",
              "  </thead>\n",
              "  <tbody>\n",
              "    <tr>\n",
              "      <th>0</th>\n",
              "      <td>How to Learn Online</td>\n",
              "      <td>Learn essential strategies for successful onli...</td>\n",
              "      <td>124980</td>\n",
              "      <td>1</td>\n",
              "      <td>edX</td>\n",
              "      <td>Nina Huntemann-Robyn Belair-Ben Piscopo</td>\n",
              "      <td>2</td>\n",
              "      <td>Education &amp; Teacher Training</td>\n",
              "      <td>English</td>\n",
              "      <td>English</td>\n",
              "      <td>2–3 hours per week</td>\n",
              "      <td>2</td>\n",
              "      <td>49.0</td>\n",
              "      <td>Designed for those who are new to elearning, t...</td>\n",
              "      <td>Welcome - We start with opportunities to meet ...</td>\n",
              "      <td>5</td>\n",
              "    </tr>\n",
              "    <tr>\n",
              "      <th>1</th>\n",
              "      <td>Programming for Everybody (Getting Started wit...</td>\n",
              "      <td>This course is a \"no prerequisite\" introductio...</td>\n",
              "      <td>293864</td>\n",
              "      <td>1</td>\n",
              "      <td>The University of Michigan</td>\n",
              "      <td>Charles Severance</td>\n",
              "      <td>2</td>\n",
              "      <td>Computer Science</td>\n",
              "      <td>English</td>\n",
              "      <td>English</td>\n",
              "      <td>2–4 hours per week</td>\n",
              "      <td>7</td>\n",
              "      <td>49.0</td>\n",
              "      <td>This course aims to teach everyone the basics ...</td>\n",
              "      <td>Unlisted</td>\n",
              "      <td>22</td>\n",
              "    </tr>\n",
              "    <tr>\n",
              "      <th>2</th>\n",
              "      <td>CS50's Introduction to Computer Science</td>\n",
              "      <td>An introduction to the intellectual enterprise...</td>\n",
              "      <td>2442271</td>\n",
              "      <td>1</td>\n",
              "      <td>Harvard University</td>\n",
              "      <td>David J. Malan-Doug Lloyd-Brian Yu</td>\n",
              "      <td>2</td>\n",
              "      <td>Computer Science</td>\n",
              "      <td>English</td>\n",
              "      <td>English</td>\n",
              "      <td>6–18 hours per week</td>\n",
              "      <td>12</td>\n",
              "      <td>90.0</td>\n",
              "      <td>This is CS50x , Harvard University's introduct...</td>\n",
              "      <td>Unlisted</td>\n",
              "      <td>104</td>\n",
              "    </tr>\n",
              "    <tr>\n",
              "      <th>3</th>\n",
              "      <td>The Analytics Edge</td>\n",
              "      <td>Through inspiring examples and stories, discov...</td>\n",
              "      <td>129555</td>\n",
              "      <td>0</td>\n",
              "      <td>Massachusetts Institute of Technology</td>\n",
              "      <td>Dimitris Bertsimas-Allison O'Hair-John Silberh...</td>\n",
              "      <td>1</td>\n",
              "      <td>Data Analysis &amp; Statistics</td>\n",
              "      <td>English</td>\n",
              "      <td>English</td>\n",
              "      <td>10–15 hours per week</td>\n",
              "      <td>13</td>\n",
              "      <td>199.0</td>\n",
              "      <td>In the last decade, the amount of data availab...</td>\n",
              "      <td>Unlisted</td>\n",
              "      <td>41</td>\n",
              "    </tr>\n",
              "    <tr>\n",
              "      <th>4</th>\n",
              "      <td>Marketing Analytics: Marketing Measurement Str...</td>\n",
              "      <td>This course is part of a MicroMasters® Program</td>\n",
              "      <td>81140</td>\n",
              "      <td>1</td>\n",
              "      <td>University of California, Berkeley</td>\n",
              "      <td>Stephan Sorger</td>\n",
              "      <td>2</td>\n",
              "      <td>Computer Science</td>\n",
              "      <td>English</td>\n",
              "      <td>English</td>\n",
              "      <td>5–7 hours per week</td>\n",
              "      <td>4</td>\n",
              "      <td>249.0</td>\n",
              "      <td>Begin your journey in a new career in marketin...</td>\n",
              "      <td>Unlisted</td>\n",
              "      <td>20</td>\n",
              "    </tr>\n",
              "  </tbody>\n",
              "</table>\n",
              "</div>\n",
              "      <button class=\"colab-df-convert\" onclick=\"convertToInteractive('df-652661dd-3309-4e09-b8eb-6865b28e77f3')\"\n",
              "              title=\"Convert this dataframe to an interactive table.\"\n",
              "              style=\"display:none;\">\n",
              "        \n",
              "  <svg xmlns=\"http://www.w3.org/2000/svg\" height=\"24px\"viewBox=\"0 0 24 24\"\n",
              "       width=\"24px\">\n",
              "    <path d=\"M0 0h24v24H0V0z\" fill=\"none\"/>\n",
              "    <path d=\"M18.56 5.44l.94 2.06.94-2.06 2.06-.94-2.06-.94-.94-2.06-.94 2.06-2.06.94zm-11 1L8.5 8.5l.94-2.06 2.06-.94-2.06-.94L8.5 2.5l-.94 2.06-2.06.94zm10 10l.94 2.06.94-2.06 2.06-.94-2.06-.94-.94-2.06-.94 2.06-2.06.94z\"/><path d=\"M17.41 7.96l-1.37-1.37c-.4-.4-.92-.59-1.43-.59-.52 0-1.04.2-1.43.59L10.3 9.45l-7.72 7.72c-.78.78-.78 2.05 0 2.83L4 21.41c.39.39.9.59 1.41.59.51 0 1.02-.2 1.41-.59l7.78-7.78 2.81-2.81c.8-.78.8-2.07 0-2.86zM5.41 20L4 18.59l7.72-7.72 1.47 1.35L5.41 20z\"/>\n",
              "  </svg>\n",
              "      </button>\n",
              "      \n",
              "  <style>\n",
              "    .colab-df-container {\n",
              "      display:flex;\n",
              "      flex-wrap:wrap;\n",
              "      gap: 12px;\n",
              "    }\n",
              "\n",
              "    .colab-df-convert {\n",
              "      background-color: #E8F0FE;\n",
              "      border: none;\n",
              "      border-radius: 50%;\n",
              "      cursor: pointer;\n",
              "      display: none;\n",
              "      fill: #1967D2;\n",
              "      height: 32px;\n",
              "      padding: 0 0 0 0;\n",
              "      width: 32px;\n",
              "    }\n",
              "\n",
              "    .colab-df-convert:hover {\n",
              "      background-color: #E2EBFA;\n",
              "      box-shadow: 0px 1px 2px rgba(60, 64, 67, 0.3), 0px 1px 3px 1px rgba(60, 64, 67, 0.15);\n",
              "      fill: #174EA6;\n",
              "    }\n",
              "\n",
              "    [theme=dark] .colab-df-convert {\n",
              "      background-color: #3B4455;\n",
              "      fill: #D2E3FC;\n",
              "    }\n",
              "\n",
              "    [theme=dark] .colab-df-convert:hover {\n",
              "      background-color: #434B5C;\n",
              "      box-shadow: 0px 1px 3px 1px rgba(0, 0, 0, 0.15);\n",
              "      filter: drop-shadow(0px 1px 2px rgba(0, 0, 0, 0.3));\n",
              "      fill: #FFFFFF;\n",
              "    }\n",
              "  </style>\n",
              "\n",
              "      <script>\n",
              "        const buttonEl =\n",
              "          document.querySelector('#df-652661dd-3309-4e09-b8eb-6865b28e77f3 button.colab-df-convert');\n",
              "        buttonEl.style.display =\n",
              "          google.colab.kernel.accessAllowed ? 'block' : 'none';\n",
              "\n",
              "        async function convertToInteractive(key) {\n",
              "          const element = document.querySelector('#df-652661dd-3309-4e09-b8eb-6865b28e77f3');\n",
              "          const dataTable =\n",
              "            await google.colab.kernel.invokeFunction('convertToInteractive',\n",
              "                                                     [key], {});\n",
              "          if (!dataTable) return;\n",
              "\n",
              "          const docLinkHtml = 'Like what you see? Visit the ' +\n",
              "            '<a target=\"_blank\" href=https://colab.research.google.com/notebooks/data_table.ipynb>data table notebook</a>'\n",
              "            + ' to learn more about interactive tables.';\n",
              "          element.innerHTML = '';\n",
              "          dataTable['output_type'] = 'display_data';\n",
              "          await google.colab.output.renderOutput(dataTable, element);\n",
              "          const docLink = document.createElement('div');\n",
              "          docLink.innerHTML = docLinkHtml;\n",
              "          element.appendChild(docLink);\n",
              "        }\n",
              "      </script>\n",
              "    </div>\n",
              "  </div>\n",
              "  "
            ]
          },
          "metadata": {},
          "execution_count": 87
        }
      ]
    },
    {
      "cell_type": "code",
      "source": [
        "from google.colab import drive\n",
        "#drive.mount('/content/drive', force_remount=True)\n",
        "path = '/content/drive/My Drive/edx_courses.csv'\n",
        "with open(path, 'w', encoding = 'utf-8-sig') as f:\n",
        "  edxcourses_df.to_csv(f)\n",
        "  "
      ],
      "metadata": {
        "id": "P7mokX2dLdno"
      },
      "execution_count": null,
      "outputs": []
    },
    {
      "cell_type": "code",
      "source": [
        "df1 = edxcourses_df.pivot_table(index='institution', values='price', aggfunc='sum')\n",
        "print(df1)"
      ],
      "metadata": {
        "colab": {
          "base_uri": "https://localhost:8080/"
        },
        "id": "yvPtjtdg2pos",
        "outputId": "41133a2c-7f10-41ad-ae8d-f42fe3a4da7e"
      },
      "execution_count": null,
      "outputs": [
        {
          "output_type": "stream",
          "name": "stdout",
          "text": [
            "                                                       price\n",
            "institution                                                 \n",
            "Amazon Web Services                                   693.00\n",
            "Amnesty International                                 196.00\n",
            "Arizona State University                              267.00\n",
            "Arm Education                                         149.00\n",
            "Australian National University                        249.00\n",
            "Babson College                                       1293.00\n",
            "Berklee College of Music                              441.00\n",
            "Boston University                                     798.00\n",
            "Catalyst                                              223.00\n",
            "Chalmers University of Technology                    1344.00\n",
            "Columbia University                                  3262.99\n",
            "Cornell University                                    298.00\n",
            "Curtin University                                    2235.00\n",
            "Dartmouth College                                     198.00\n",
            "Dartmouth_IMTx-Dartmouth College-IMT                  294.00\n",
            "Davidson College                                      198.00\n",
            "Davidson Next                                         147.00\n",
            "Delft University of Technology                       2562.00\n",
            "Delft University of Technology-Wageningen Unive...     99.00\n",
            "DelftXRWTHx-Delft University of Technology-RWTH...     50.00\n",
            "Doane University                                     1748.00\n",
            "ETH Zurich                                            150.00\n",
            "Educational Testing Service                            49.00\n",
            "Georgetown University                                 731.00\n",
            "HEC Montréal                                          248.00\n",
            "Harvard University                                  10017.00\n",
            "IBM                                                  1840.00\n",
            "IITBombay                                             884.00\n",
            "IMT                                                    49.00\n",
            "Imperial College Business School-Imperial Colle...    395.00\n",
            "Imperial College London                               343.00\n",
            "Indian Institute of Management Bangalore             1350.00\n",
            "Inter-American Development Bank                       797.00\n",
            "IsraelX                                                49.00\n",
            "IsraelX-Tel Aviv University                           596.00\n",
            "KU Leuven University                                  147.00\n",
            "Kyoto University                                      245.00\n",
            "LOGYCA                                                128.90\n",
            "MandarinX                                             695.00\n",
            "Massachusetts Institute of Technology                5502.00\n",
            "NYIF                                                  869.00\n",
            "National Research Nuclear University                   98.00\n",
            "New York University                                  1413.00\n",
            "Pontificia Universidad Javeriana                      406.00\n",
            "Queen’s University                                    447.00\n",
            "RWTH Aachen University                                 99.00\n",
            "Red Hat                                               198.00\n",
            "Rice University                                       546.00\n",
            "Rochester Institute of Technology                    3089.00\n",
            "Rolls-Royce                                           196.00\n",
            "SDG Academy                                           712.00\n",
            "Salisbury University-University System of Maryland     98.00\n",
            "SchoolYourself                                        189.00\n",
            "Stanford University                                  1672.00\n",
            "Technische Universität München                        346.00\n",
            "Tecnológico de Monterrey                             2281.97\n",
            "The Georgia Institute of Technology                  1042.00\n",
            "The Hong Kong Polytechnic University                  487.00\n",
            "The Hong Kong University of Science and Technology    498.00\n",
            "The International Monetary Fund                       275.00\n",
            "The Islamic Research and Training Institute            49.00\n",
            "The Linux Foundation                                 1800.00\n",
            "The National University of Singapore                  199.00\n",
            "The Smithsonian Institution                           214.00\n",
            "The University of California, San Diego              1495.00\n",
            "The University of Edinburgh                           198.00\n",
            "The University of Iceland                             100.00\n",
            "The University of Maryland, College Park-Univer...   2880.00\n",
            "The University of Michigan                           1678.00\n",
            "The University of Michigan-Microsoft Education        199.00\n",
            "The University of Queensland                         2938.00\n",
            "The University of Texas at Austin                     196.00\n",
            "The University of Texas of the Permian Basin          139.00\n",
            "The University of Tokyo                                49.00\n",
            "The Wharton School of the University of Pennsyl...    398.00\n",
            "The World Wide Web Consortium (W3C)                   995.00\n",
            "Tokyo Institute of Technology                         158.00\n",
            "Tsinghua University                                  1138.00\n",
            "United Arab Emirates University                       147.00\n",
            "Universidad Autónoma de Madrid                        803.00\n",
            "Universidad Carlos III de Madrid                      829.00\n",
            "Universidad Galileo                                   686.00\n",
            "Universidad Nacional de Córdoba                       751.00\n",
            "Universidad del Rosario                               392.00\n",
            "Universidades Anáhuac                                 744.00\n",
            "Universitat Politècnica de Valencia                  2532.00\n",
            "University System of Maryland-The University of...    149.00\n",
            "University System of Maryland-University of Mar...   1146.00\n",
            "University of Adelaide                               2424.00\n",
            "University of Baltimore-University System of Ma...     29.00\n",
            "University of British Columbia                       1049.00\n",
            "University of California, Berkeley                   2841.00\n",
            "University of Hong Kong                              1322.00\n",
            "University of Maryland Global Campus-University...    149.00\n",
            "University of Oxford                                  149.00\n",
            "University of Pennsylvania                           1152.00\n",
            "University of Texas at Arlington                      139.00\n",
            "University of Toronto                                 139.00\n",
            "University of Washington                             1989.00\n",
            "Università degli Studi di Napoli Federico II          236.00\n",
            "Université catholique de Louvain                     1200.00\n",
            "Université de Montréal                                298.00\n",
            "Ural Federal University                                98.00\n",
            "Wageningen University & Research                     1498.00\n",
            "Waseda University                                     870.00\n",
            "Wellesley College                                     196.00\n",
            "Western Governors University                          999.00\n",
            "Wits University                                       853.00\n",
            "World Bank Group                                       20.00\n",
            "edX                                                   395.00\n",
            "École polytechnique fédérale de Lausanne              984.00\n"
          ]
        }
      ]
    },
    {
      "cell_type": "code",
      "source": [],
      "metadata": {
        "id": "6sCweH3B3DlI"
      },
      "execution_count": null,
      "outputs": []
    },
    {
      "cell_type": "code",
      "source": [
        "edxcourses_df.to_csv(\"edxcourses_bigquery.csv\")\n",
        "\n",
        "Path('edxcourses.db').touch()\n",
        "edx_conn = sqlite3.connect('edxcourses.db')\n",
        "edx_cursor = edx_conn.cursor()\n",
        "\n",
        "edxcourses_df.to_sql('edxcourses', edx_conn, if_exists='append', index=False)"
      ],
      "metadata": {
        "id": "zf5XLeagiOh-"
      },
      "execution_count": null,
      "outputs": []
    },
    {
      "cell_type": "code",
      "source": [
        "edx_init_query = pd.read_sql(''' SELECT * FROM edxcourses ''', edx_conn)\n",
        "edx_init_query.info()"
      ],
      "metadata": {
        "colab": {
          "base_uri": "https://localhost:8080/"
        },
        "id": "pk10fXMLloOz",
        "outputId": "6e8df3c8-9fa7-42ba-ce72-876d3f6fe659"
      },
      "execution_count": null,
      "outputs": [
        {
          "output_type": "stream",
          "name": "stdout",
          "text": [
            "<class 'pandas.core.frame.DataFrame'>\n",
            "RangeIndex: 975 entries, 0 to 974\n",
            "Data columns (total 15 columns):\n",
            " #   Column              Non-Null Count  Dtype  \n",
            "---  ------              --------------  -----  \n",
            " 0   title               975 non-null    object \n",
            " 1   summary             975 non-null    object \n",
            " 2   n_enrolled          975 non-null    int64  \n",
            " 3   course_type         975 non-null    int64  \n",
            " 4   institution         975 non-null    object \n",
            " 5   instructors         975 non-null    object \n",
            " 6   Level               975 non-null    int64  \n",
            " 7   subject             975 non-null    object \n",
            " 8   language            975 non-null    object \n",
            " 9   subtitles           975 non-null    object \n",
            " 10  course_effort       975 non-null    object \n",
            " 11  course_length       975 non-null    int64  \n",
            " 12  price               975 non-null    float64\n",
            " 13  course_description  975 non-null    object \n",
            " 14  course_syllabus     975 non-null    object \n",
            "dtypes: float64(1), int64(4), object(10)\n",
            "memory usage: 114.4+ KB\n"
          ]
        }
      ]
    },
    {
      "cell_type": "code",
      "source": [
        "stdquery = pd.read_sql(''' SELECT subject, SUM(n_enrolled) AS total \n",
        "                           FROM edxcourses \n",
        "                           GROUP BY subject \n",
        "                           ORDER BY total DESC ''', edx_conn)\n",
        "stdquery"
      ],
      "metadata": {
        "colab": {
          "base_uri": "https://localhost:8080/",
          "height": 1000
        },
        "id": "twitcQ5j80uy",
        "outputId": "3855a8a1-5eed-4cf8-d1a0-b71e3f259e0d"
      },
      "execution_count": null,
      "outputs": [
        {
          "output_type": "execute_result",
          "data": {
            "text/plain": [
              "                         subject     total\n",
              "0               Computer Science  12447737\n",
              "1          Business & Management   7076563\n",
              "2                  Communication   4641327\n",
              "3     Data Analysis & Statistics   4264412\n",
              "4                     Humanities   3504140\n",
              "5                Social Sciences   1844379\n",
              "6        Biology & Life Sciences   1763832\n",
              "7                    Engineering   1396839\n",
              "8                       Language   1063257\n",
              "9                       Medicine    989765\n",
              "10                          Math    963753\n",
              "11           Economics & Finance    835907\n",
              "12  Education & Teacher Training    706532\n",
              "13                       Physics    580559\n",
              "14                       History    530724\n",
              "15                  Architecture    456611\n",
              "16         Environmental Studies    368185\n",
              "17               Health & Safety    325912\n",
              "18                           Law    291436\n",
              "19                 Art & Culture    282312\n",
              "20                     Chemistry    197535\n",
              "21              Food & Nutrition    197479\n",
              "22                    Literature    191592\n",
              "23                       Science    160697\n",
              "24           Philosophy & Ethics    110693\n",
              "25                   Electronics    109932\n",
              "26                        Design    108281\n",
              "27                         Music     70481\n",
              "28       Energy & Earth Sciences     50362\n",
              "29                        Ethics      6366\n",
              "30                  Philanthropy         0"
            ],
            "text/html": [
              "\n",
              "  <div id=\"df-3631a454-b1d1-4f4e-8769-20fc568d63f4\">\n",
              "    <div class=\"colab-df-container\">\n",
              "      <div>\n",
              "<style scoped>\n",
              "    .dataframe tbody tr th:only-of-type {\n",
              "        vertical-align: middle;\n",
              "    }\n",
              "\n",
              "    .dataframe tbody tr th {\n",
              "        vertical-align: top;\n",
              "    }\n",
              "\n",
              "    .dataframe thead th {\n",
              "        text-align: right;\n",
              "    }\n",
              "</style>\n",
              "<table border=\"1\" class=\"dataframe\">\n",
              "  <thead>\n",
              "    <tr style=\"text-align: right;\">\n",
              "      <th></th>\n",
              "      <th>subject</th>\n",
              "      <th>total</th>\n",
              "    </tr>\n",
              "  </thead>\n",
              "  <tbody>\n",
              "    <tr>\n",
              "      <th>0</th>\n",
              "      <td>Computer Science</td>\n",
              "      <td>12447737</td>\n",
              "    </tr>\n",
              "    <tr>\n",
              "      <th>1</th>\n",
              "      <td>Business &amp; Management</td>\n",
              "      <td>7076563</td>\n",
              "    </tr>\n",
              "    <tr>\n",
              "      <th>2</th>\n",
              "      <td>Communication</td>\n",
              "      <td>4641327</td>\n",
              "    </tr>\n",
              "    <tr>\n",
              "      <th>3</th>\n",
              "      <td>Data Analysis &amp; Statistics</td>\n",
              "      <td>4264412</td>\n",
              "    </tr>\n",
              "    <tr>\n",
              "      <th>4</th>\n",
              "      <td>Humanities</td>\n",
              "      <td>3504140</td>\n",
              "    </tr>\n",
              "    <tr>\n",
              "      <th>5</th>\n",
              "      <td>Social Sciences</td>\n",
              "      <td>1844379</td>\n",
              "    </tr>\n",
              "    <tr>\n",
              "      <th>6</th>\n",
              "      <td>Biology &amp; Life Sciences</td>\n",
              "      <td>1763832</td>\n",
              "    </tr>\n",
              "    <tr>\n",
              "      <th>7</th>\n",
              "      <td>Engineering</td>\n",
              "      <td>1396839</td>\n",
              "    </tr>\n",
              "    <tr>\n",
              "      <th>8</th>\n",
              "      <td>Language</td>\n",
              "      <td>1063257</td>\n",
              "    </tr>\n",
              "    <tr>\n",
              "      <th>9</th>\n",
              "      <td>Medicine</td>\n",
              "      <td>989765</td>\n",
              "    </tr>\n",
              "    <tr>\n",
              "      <th>10</th>\n",
              "      <td>Math</td>\n",
              "      <td>963753</td>\n",
              "    </tr>\n",
              "    <tr>\n",
              "      <th>11</th>\n",
              "      <td>Economics &amp; Finance</td>\n",
              "      <td>835907</td>\n",
              "    </tr>\n",
              "    <tr>\n",
              "      <th>12</th>\n",
              "      <td>Education &amp; Teacher Training</td>\n",
              "      <td>706532</td>\n",
              "    </tr>\n",
              "    <tr>\n",
              "      <th>13</th>\n",
              "      <td>Physics</td>\n",
              "      <td>580559</td>\n",
              "    </tr>\n",
              "    <tr>\n",
              "      <th>14</th>\n",
              "      <td>History</td>\n",
              "      <td>530724</td>\n",
              "    </tr>\n",
              "    <tr>\n",
              "      <th>15</th>\n",
              "      <td>Architecture</td>\n",
              "      <td>456611</td>\n",
              "    </tr>\n",
              "    <tr>\n",
              "      <th>16</th>\n",
              "      <td>Environmental Studies</td>\n",
              "      <td>368185</td>\n",
              "    </tr>\n",
              "    <tr>\n",
              "      <th>17</th>\n",
              "      <td>Health &amp; Safety</td>\n",
              "      <td>325912</td>\n",
              "    </tr>\n",
              "    <tr>\n",
              "      <th>18</th>\n",
              "      <td>Law</td>\n",
              "      <td>291436</td>\n",
              "    </tr>\n",
              "    <tr>\n",
              "      <th>19</th>\n",
              "      <td>Art &amp; Culture</td>\n",
              "      <td>282312</td>\n",
              "    </tr>\n",
              "    <tr>\n",
              "      <th>20</th>\n",
              "      <td>Chemistry</td>\n",
              "      <td>197535</td>\n",
              "    </tr>\n",
              "    <tr>\n",
              "      <th>21</th>\n",
              "      <td>Food &amp; Nutrition</td>\n",
              "      <td>197479</td>\n",
              "    </tr>\n",
              "    <tr>\n",
              "      <th>22</th>\n",
              "      <td>Literature</td>\n",
              "      <td>191592</td>\n",
              "    </tr>\n",
              "    <tr>\n",
              "      <th>23</th>\n",
              "      <td>Science</td>\n",
              "      <td>160697</td>\n",
              "    </tr>\n",
              "    <tr>\n",
              "      <th>24</th>\n",
              "      <td>Philosophy &amp; Ethics</td>\n",
              "      <td>110693</td>\n",
              "    </tr>\n",
              "    <tr>\n",
              "      <th>25</th>\n",
              "      <td>Electronics</td>\n",
              "      <td>109932</td>\n",
              "    </tr>\n",
              "    <tr>\n",
              "      <th>26</th>\n",
              "      <td>Design</td>\n",
              "      <td>108281</td>\n",
              "    </tr>\n",
              "    <tr>\n",
              "      <th>27</th>\n",
              "      <td>Music</td>\n",
              "      <td>70481</td>\n",
              "    </tr>\n",
              "    <tr>\n",
              "      <th>28</th>\n",
              "      <td>Energy &amp; Earth Sciences</td>\n",
              "      <td>50362</td>\n",
              "    </tr>\n",
              "    <tr>\n",
              "      <th>29</th>\n",
              "      <td>Ethics</td>\n",
              "      <td>6366</td>\n",
              "    </tr>\n",
              "    <tr>\n",
              "      <th>30</th>\n",
              "      <td>Philanthropy</td>\n",
              "      <td>0</td>\n",
              "    </tr>\n",
              "  </tbody>\n",
              "</table>\n",
              "</div>\n",
              "      <button class=\"colab-df-convert\" onclick=\"convertToInteractive('df-3631a454-b1d1-4f4e-8769-20fc568d63f4')\"\n",
              "              title=\"Convert this dataframe to an interactive table.\"\n",
              "              style=\"display:none;\">\n",
              "        \n",
              "  <svg xmlns=\"http://www.w3.org/2000/svg\" height=\"24px\"viewBox=\"0 0 24 24\"\n",
              "       width=\"24px\">\n",
              "    <path d=\"M0 0h24v24H0V0z\" fill=\"none\"/>\n",
              "    <path d=\"M18.56 5.44l.94 2.06.94-2.06 2.06-.94-2.06-.94-.94-2.06-.94 2.06-2.06.94zm-11 1L8.5 8.5l.94-2.06 2.06-.94-2.06-.94L8.5 2.5l-.94 2.06-2.06.94zm10 10l.94 2.06.94-2.06 2.06-.94-2.06-.94-.94-2.06-.94 2.06-2.06.94z\"/><path d=\"M17.41 7.96l-1.37-1.37c-.4-.4-.92-.59-1.43-.59-.52 0-1.04.2-1.43.59L10.3 9.45l-7.72 7.72c-.78.78-.78 2.05 0 2.83L4 21.41c.39.39.9.59 1.41.59.51 0 1.02-.2 1.41-.59l7.78-7.78 2.81-2.81c.8-.78.8-2.07 0-2.86zM5.41 20L4 18.59l7.72-7.72 1.47 1.35L5.41 20z\"/>\n",
              "  </svg>\n",
              "      </button>\n",
              "      \n",
              "  <style>\n",
              "    .colab-df-container {\n",
              "      display:flex;\n",
              "      flex-wrap:wrap;\n",
              "      gap: 12px;\n",
              "    }\n",
              "\n",
              "    .colab-df-convert {\n",
              "      background-color: #E8F0FE;\n",
              "      border: none;\n",
              "      border-radius: 50%;\n",
              "      cursor: pointer;\n",
              "      display: none;\n",
              "      fill: #1967D2;\n",
              "      height: 32px;\n",
              "      padding: 0 0 0 0;\n",
              "      width: 32px;\n",
              "    }\n",
              "\n",
              "    .colab-df-convert:hover {\n",
              "      background-color: #E2EBFA;\n",
              "      box-shadow: 0px 1px 2px rgba(60, 64, 67, 0.3), 0px 1px 3px 1px rgba(60, 64, 67, 0.15);\n",
              "      fill: #174EA6;\n",
              "    }\n",
              "\n",
              "    [theme=dark] .colab-df-convert {\n",
              "      background-color: #3B4455;\n",
              "      fill: #D2E3FC;\n",
              "    }\n",
              "\n",
              "    [theme=dark] .colab-df-convert:hover {\n",
              "      background-color: #434B5C;\n",
              "      box-shadow: 0px 1px 3px 1px rgba(0, 0, 0, 0.15);\n",
              "      filter: drop-shadow(0px 1px 2px rgba(0, 0, 0, 0.3));\n",
              "      fill: #FFFFFF;\n",
              "    }\n",
              "  </style>\n",
              "\n",
              "      <script>\n",
              "        const buttonEl =\n",
              "          document.querySelector('#df-3631a454-b1d1-4f4e-8769-20fc568d63f4 button.colab-df-convert');\n",
              "        buttonEl.style.display =\n",
              "          google.colab.kernel.accessAllowed ? 'block' : 'none';\n",
              "\n",
              "        async function convertToInteractive(key) {\n",
              "          const element = document.querySelector('#df-3631a454-b1d1-4f4e-8769-20fc568d63f4');\n",
              "          const dataTable =\n",
              "            await google.colab.kernel.invokeFunction('convertToInteractive',\n",
              "                                                     [key], {});\n",
              "          if (!dataTable) return;\n",
              "\n",
              "          const docLinkHtml = 'Like what you see? Visit the ' +\n",
              "            '<a target=\"_blank\" href=https://colab.research.google.com/notebooks/data_table.ipynb>data table notebook</a>'\n",
              "            + ' to learn more about interactive tables.';\n",
              "          element.innerHTML = '';\n",
              "          dataTable['output_type'] = 'display_data';\n",
              "          await google.colab.output.renderOutput(dataTable, element);\n",
              "          const docLink = document.createElement('div');\n",
              "          docLink.innerHTML = docLinkHtml;\n",
              "          element.appendChild(docLink);\n",
              "        }\n",
              "      </script>\n",
              "    </div>\n",
              "  </div>\n",
              "  "
            ]
          },
          "metadata": {},
          "execution_count": 87
        }
      ]
    },
    {
      "cell_type": "code",
      "source": [
        "# setting the dimensions of the plot\n",
        "# depict visualization\n",
        "fig, ax = plt.subplots()\n",
        "sns.barplot(x = 'total', y = 'subject', data = stdquery, color = 'blue', edgecolor='black')\n",
        "plt.ticklabel_format(style='plain', axis='x')"
      ],
      "metadata": {
        "colab": {
          "base_uri": "https://localhost:8080/",
          "height": 1000
        },
        "id": "oaPzCYku9LNV",
        "outputId": "a1e3b0a3-3865-46a4-b3e3-66d49546e069"
      },
      "execution_count": null,
      "outputs": [
        {
          "output_type": "display_data",
          "data": {
            "text/plain": [
              "<Figure size 720x1440 with 1 Axes>"
            ],
            "image/png": "[encoded data removed]"
          },
          "metadata": {}
        }
      ]
    },
    {
      "cell_type": "code",
      "source": [
        "data_analysis_query = pd.read_sql(''' SELECT title, price, course_effort, n_enrolled, institution \n",
        "                                      FROM edxcourses\n",
        "                                      WHERE subject == 'Data Analysis & Statistics'\n",
        "                                      ORDER BY price DESC LIMIT 15 ''', edx_conn)\n",
        "data_analysis_query.info()"
      ],
      "metadata": {
        "colab": {
          "base_uri": "https://localhost:8080/"
        },
        "id": "epmkxyHjlyq-",
        "outputId": "4841f3d6-2a0c-485c-d93b-95f861182c62"
      },
      "execution_count": null,
      "outputs": [
        {
          "output_type": "stream",
          "name": "stdout",
          "text": [
            "<class 'pandas.core.frame.DataFrame'>\n",
            "RangeIndex: 15 entries, 0 to 14\n",
            "Data columns (total 5 columns):\n",
            " #   Column         Non-Null Count  Dtype  \n",
            "---  ------         --------------  -----  \n",
            " 0   title          15 non-null     object \n",
            " 1   price          15 non-null     float64\n",
            " 2   course_effort  15 non-null     object \n",
            " 3   n_enrolled     15 non-null     int64  \n",
            " 4   institution    15 non-null     object \n",
            "dtypes: float64(1), int64(1), object(3)\n",
            "memory usage: 728.0+ bytes\n"
          ]
        }
      ]
    },
    {
      "cell_type": "code",
      "source": [
        "sns.barplot(x = 'price', y = 'title', data = data_analysis_query, color = 'blue', edgecolor='black')"
      ],
      "metadata": {
        "colab": {
          "base_uri": "https://localhost:8080/",
          "height": 296
        },
        "id": "rE41aiA5l8eL",
        "outputId": "dcb69186-f68e-4c41-ddeb-cbff13c11dee"
      },
      "execution_count": null,
      "outputs": [
        {
          "output_type": "execute_result",
          "data": {
            "text/plain": [
              "<matplotlib.axes._subplots.AxesSubplot at 0x7fbe5e404130>"
            ]
          },
          "metadata": {},
          "execution_count": 21
        },
        {
          "output_type": "display_data",
          "data": {
            "text/plain": [
              "<Figure size 432x288 with 1 Axes>"
            ],
            "image/png": "[encoded data removed]"
          },
          "metadata": {
            "needs_background": "light"
          }
        }
      ]
    },
    {
      "cell_type": "code",
      "source": [
        "sns.barplot(x = 'n_enrolled', y = 'title', data = data_analysis_query, color = 'blue', edgecolor='black')"
      ],
      "metadata": {
        "colab": {
          "base_uri": "https://localhost:8080/",
          "height": 297
        },
        "id": "JnNNRbzBmCNw",
        "outputId": "1b4231a5-1d79-4660-b3e6-2b1b02d99329"
      },
      "execution_count": null,
      "outputs": [
        {
          "output_type": "execute_result",
          "data": {
            "text/plain": [
              "<matplotlib.axes._subplots.AxesSubplot at 0x7fbe5cfda490>"
            ]
          },
          "metadata": {},
          "execution_count": 22
        },
        {
          "output_type": "display_data",
          "data": {
            "text/plain": [
              "<Figure size 432x288 with 1 Axes>"
            ],
            "image/png": "[encoded data removed]"
          },
          "metadata": {
            "needs_background": "light"
          }
        }
      ]
    },
    {
      "cell_type": "code",
      "source": [
        "sns.barplot(x = 'price', y = 'n_enrolled', data = data_analysis_query, color = 'blue', edgecolor = 'black', ci=False)"
      ],
      "metadata": {
        "colab": {
          "base_uri": "https://localhost:8080/",
          "height": 296
        },
        "id": "IuShmdWjmF_S",
        "outputId": "a0a44104-9a4a-4d9e-c129-fb5f664135d5"
      },
      "execution_count": null,
      "outputs": [
        {
          "output_type": "execute_result",
          "data": {
            "text/plain": [
              "<matplotlib.axes._subplots.AxesSubplot at 0x7fbe5cec14f0>"
            ]
          },
          "metadata": {},
          "execution_count": 23
        },
        {
          "output_type": "display_data",
          "data": {
            "text/plain": [
              "<Figure size 432x288 with 1 Axes>"
            ],
            "image/png": "[encoded data removed]"
          },
          "metadata": {
            "needs_background": "light"
          }
        }
      ]
    },
    {
      "cell_type": "code",
      "source": [
        "data_analysis_python = pd.read_sql(''' SELECT title, price, course_effort, n_enrolled, institution\n",
        "                                       FROM edxcourses\n",
        "                                       WHERE title LIKE '%Python'\n",
        "                                       ORDER BY price DESC  ''', edx_conn)\n",
        "data_analysis_python.info()"
      ],
      "metadata": {
        "colab": {
          "base_uri": "https://localhost:8080/"
        },
        "id": "D1aqdK7MmMOI",
        "outputId": "70d95037-8380-4aac-bc41-352beecf0bfe"
      },
      "execution_count": null,
      "outputs": [
        {
          "output_type": "stream",
          "name": "stdout",
          "text": [
            "<class 'pandas.core.frame.DataFrame'>\n",
            "RangeIndex: 8 entries, 0 to 7\n",
            "Data columns (total 5 columns):\n",
            " #   Column         Non-Null Count  Dtype  \n",
            "---  ------         --------------  -----  \n",
            " 0   title          8 non-null      object \n",
            " 1   price          8 non-null      float64\n",
            " 2   course_effort  8 non-null      object \n",
            " 3   n_enrolled     8 non-null      int64  \n",
            " 4   institution    8 non-null      object \n",
            "dtypes: float64(1), int64(1), object(3)\n",
            "memory usage: 448.0+ bytes\n"
          ]
        }
      ]
    },
    {
      "cell_type": "code",
      "source": [
        "sns.barplot(x = 'price', y = 'n_enrolled', data = data_analysis_python, color = 'orange', edgecolor='black', ci=False)"
      ],
      "metadata": {
        "colab": {
          "base_uri": "https://localhost:8080/",
          "height": 296
        },
        "id": "ufidh-Q6mRsx",
        "outputId": "0486ee72-6a5d-452b-92b0-ab8f9d1c4039"
      },
      "execution_count": null,
      "outputs": [
        {
          "output_type": "execute_result",
          "data": {
            "text/plain": [
              "<matplotlib.axes._subplots.AxesSubplot at 0x7fbe5ce42310>"
            ]
          },
          "metadata": {},
          "execution_count": 26
        },
        {
          "output_type": "display_data",
          "data": {
            "text/plain": [
              "<Figure size 432x288 with 1 Axes>"
            ],
            "image/png": "[encoded data removed]"
          },
          "metadata": {
            "needs_background": "light"
          }
        }
      ]
    },
    {
      "cell_type": "code",
      "source": [
        "data_analysis_prog = pd.read_sql(''' SELECT title, price, course_effort, n_enrolled, institution\n",
        "                                       FROM edxcourses\n",
        "                                       WHERE title LIKE '%Programming'\n",
        "                                       ORDER BY price DESC  ''', edx_conn)\n",
        "data_analysis_prog.head()"
      ],
      "metadata": {
        "colab": {
          "base_uri": "https://localhost:8080/",
          "height": 175
        },
        "id": "ZyLp0s4TmWsz",
        "outputId": "3d300073-593f-49c9-b786-67ed03301af9"
      },
      "execution_count": null,
      "outputs": [
        {
          "output_type": "execute_result",
          "data": {
            "text/plain": [
              "                                               title  price  \\\n",
              "0                Basics of Computing and Programming  200.0   \n",
              "1                        Object-Oriented Programming  149.0   \n",
              "2  Computing in Python I: Fundamentals and Proced...   99.0   \n",
              "3                    AI Chatbots without Programming   99.0   \n",
              "\n",
              "         course_effort  n_enrolled                          institution  \n",
              "0   6–8 hours per week       37045                  New York University  \n",
              "1   6–8 hours per week       93633                            IITBombay  \n",
              "2  9–10 hours per week      141966  The Georgia Institute of Technology  \n",
              "3   2–4 hours per week       35440                                  IBM  "
            ],
            "text/html": [
              "\n",
              "  <div id=\"df-ba0eee62-bd83-49e2-833d-14221e14640f\">\n",
              "    <div class=\"colab-df-container\">\n",
              "      <div>\n",
              "<style scoped>\n",
              "    .dataframe tbody tr th:only-of-type {\n",
              "        vertical-align: middle;\n",
              "    }\n",
              "\n",
              "    .dataframe tbody tr th {\n",
              "        vertical-align: top;\n",
              "    }\n",
              "\n",
              "    .dataframe thead th {\n",
              "        text-align: right;\n",
              "    }\n",
              "</style>\n",
              "<table border=\"1\" class=\"dataframe\">\n",
              "  <thead>\n",
              "    <tr style=\"text-align: right;\">\n",
              "      <th></th>\n",
              "      <th>title</th>\n",
              "      <th>price</th>\n",
              "      <th>course_effort</th>\n",
              "      <th>n_enrolled</th>\n",
              "      <th>institution</th>\n",
              "    </tr>\n",
              "  </thead>\n",
              "  <tbody>\n",
              "    <tr>\n",
              "      <th>0</th>\n",
              "      <td>Basics of Computing and Programming</td>\n",
              "      <td>200.0</td>\n",
              "      <td>6–8 hours per week</td>\n",
              "      <td>37045</td>\n",
              "      <td>New York University</td>\n",
              "    </tr>\n",
              "    <tr>\n",
              "      <th>1</th>\n",
              "      <td>Object-Oriented Programming</td>\n",
              "      <td>149.0</td>\n",
              "      <td>6–8 hours per week</td>\n",
              "      <td>93633</td>\n",
              "      <td>IITBombay</td>\n",
              "    </tr>\n",
              "    <tr>\n",
              "      <th>2</th>\n",
              "      <td>Computing in Python I: Fundamentals and Proced...</td>\n",
              "      <td>99.0</td>\n",
              "      <td>9–10 hours per week</td>\n",
              "      <td>141966</td>\n",
              "      <td>The Georgia Institute of Technology</td>\n",
              "    </tr>\n",
              "    <tr>\n",
              "      <th>3</th>\n",
              "      <td>AI Chatbots without Programming</td>\n",
              "      <td>99.0</td>\n",
              "      <td>2–4 hours per week</td>\n",
              "      <td>35440</td>\n",
              "      <td>IBM</td>\n",
              "    </tr>\n",
              "  </tbody>\n",
              "</table>\n",
              "</div>\n",
              "      <button class=\"colab-df-convert\" onclick=\"convertToInteractive('df-ba0eee62-bd83-49e2-833d-14221e14640f')\"\n",
              "              title=\"Convert this dataframe to an interactive table.\"\n",
              "              style=\"display:none;\">\n",
              "        \n",
              "  <svg xmlns=\"http://www.w3.org/2000/svg\" height=\"24px\"viewBox=\"0 0 24 24\"\n",
              "       width=\"24px\">\n",
              "    <path d=\"M0 0h24v24H0V0z\" fill=\"none\"/>\n",
              "    <path d=\"M18.56 5.44l.94 2.06.94-2.06 2.06-.94-2.06-.94-.94-2.06-.94 2.06-2.06.94zm-11 1L8.5 8.5l.94-2.06 2.06-.94-2.06-.94L8.5 2.5l-.94 2.06-2.06.94zm10 10l.94 2.06.94-2.06 2.06-.94-2.06-.94-.94-2.06-.94 2.06-2.06.94z\"/><path d=\"M17.41 7.96l-1.37-1.37c-.4-.4-.92-.59-1.43-.59-.52 0-1.04.2-1.43.59L10.3 9.45l-7.72 7.72c-.78.78-.78 2.05 0 2.83L4 21.41c.39.39.9.59 1.41.59.51 0 1.02-.2 1.41-.59l7.78-7.78 2.81-2.81c.8-.78.8-2.07 0-2.86zM5.41 20L4 18.59l7.72-7.72 1.47 1.35L5.41 20z\"/>\n",
              "  </svg>\n",
              "      </button>\n",
              "      \n",
              "  <style>\n",
              "    .colab-df-container {\n",
              "      display:flex;\n",
              "      flex-wrap:wrap;\n",
              "      gap: 12px;\n",
              "    }\n",
              "\n",
              "    .colab-df-convert {\n",
              "      background-color: #E8F0FE;\n",
              "      border: none;\n",
              "      border-radius: 50%;\n",
              "      cursor: pointer;\n",
              "      display: none;\n",
              "      fill: #1967D2;\n",
              "      height: 32px;\n",
              "      padding: 0 0 0 0;\n",
              "      width: 32px;\n",
              "    }\n",
              "\n",
              "    .colab-df-convert:hover {\n",
              "      background-color: #E2EBFA;\n",
              "      box-shadow: 0px 1px 2px rgba(60, 64, 67, 0.3), 0px 1px 3px 1px rgba(60, 64, 67, 0.15);\n",
              "      fill: #174EA6;\n",
              "    }\n",
              "\n",
              "    [theme=dark] .colab-df-convert {\n",
              "      background-color: #3B4455;\n",
              "      fill: #D2E3FC;\n",
              "    }\n",
              "\n",
              "    [theme=dark] .colab-df-convert:hover {\n",
              "      background-color: #434B5C;\n",
              "      box-shadow: 0px 1px 3px 1px rgba(0, 0, 0, 0.15);\n",
              "      filter: drop-shadow(0px 1px 2px rgba(0, 0, 0, 0.3));\n",
              "      fill: #FFFFFF;\n",
              "    }\n",
              "  </style>\n",
              "\n",
              "      <script>\n",
              "        const buttonEl =\n",
              "          document.querySelector('#df-ba0eee62-bd83-49e2-833d-14221e14640f button.colab-df-convert');\n",
              "        buttonEl.style.display =\n",
              "          google.colab.kernel.accessAllowed ? 'block' : 'none';\n",
              "\n",
              "        async function convertToInteractive(key) {\n",
              "          const element = document.querySelector('#df-ba0eee62-bd83-49e2-833d-14221e14640f');\n",
              "          const dataTable =\n",
              "            await google.colab.kernel.invokeFunction('convertToInteractive',\n",
              "                                                     [key], {});\n",
              "          if (!dataTable) return;\n",
              "\n",
              "          const docLinkHtml = 'Like what you see? Visit the ' +\n",
              "            '<a target=\"_blank\" href=https://colab.research.google.com/notebooks/data_table.ipynb>data table notebook</a>'\n",
              "            + ' to learn more about interactive tables.';\n",
              "          element.innerHTML = '';\n",
              "          dataTable['output_type'] = 'display_data';\n",
              "          await google.colab.output.renderOutput(dataTable, element);\n",
              "          const docLink = document.createElement('div');\n",
              "          docLink.innerHTML = docLinkHtml;\n",
              "          element.appendChild(docLink);\n",
              "        }\n",
              "      </script>\n",
              "    </div>\n",
              "  </div>\n",
              "  "
            ]
          },
          "metadata": {},
          "execution_count": 82
        }
      ]
    },
    {
      "cell_type": "code",
      "source": [
        "data_analysis_stat = pd.read_sql(''' SELECT title, price, course_effort, n_enrolled, institution\n",
        "                                     FROM edxcourses\n",
        "                                     WHERE title LIKE '%Statistics'\n",
        "                                     ORDER BY price DESC ''', edx_conn)\n",
        "data_analysis_stat.info()"
      ],
      "metadata": {
        "colab": {
          "base_uri": "https://localhost:8080/"
        },
        "id": "ZxJITWoimbGl",
        "outputId": "bc78d7d3-3667-4590-ff89-688912f45652"
      },
      "execution_count": null,
      "outputs": [
        {
          "output_type": "stream",
          "name": "stdout",
          "text": [
            "<class 'pandas.core.frame.DataFrame'>\n",
            "RangeIndex: 4 entries, 0 to 3\n",
            "Data columns (total 5 columns):\n",
            " #   Column         Non-Null Count  Dtype  \n",
            "---  ------         --------------  -----  \n",
            " 0   title          4 non-null      object \n",
            " 1   price          4 non-null      float64\n",
            " 2   course_effort  4 non-null      object \n",
            " 3   n_enrolled     4 non-null      int64  \n",
            " 4   institution    4 non-null      object \n",
            "dtypes: float64(1), int64(1), object(3)\n",
            "memory usage: 288.0+ bytes\n"
          ]
        }
      ]
    },
    {
      "cell_type": "code",
      "source": [
        "data_analysis_prob = pd.read_sql(''' SELECT title, price, course_effort, n_enrolled, institution\n",
        "                                     FROM edxcourses\n",
        "                                     WHERE title LIKE '%Probability' AND title NOT LIKE '%MathTrackX: Probability'\n",
        "                                     ORDER BY price DESC ''', edx_conn)\n",
        "data_analysis_prob.info()"
      ],
      "metadata": {
        "colab": {
          "base_uri": "https://localhost:8080/"
        },
        "id": "A7MylJp5mhcM",
        "outputId": "983683ab-0b5d-483b-9ba3-84c2c57b1b29"
      },
      "execution_count": null,
      "outputs": [
        {
          "output_type": "stream",
          "name": "stdout",
          "text": [
            "<class 'pandas.core.frame.DataFrame'>\n",
            "RangeIndex: 4 entries, 0 to 3\n",
            "Data columns (total 5 columns):\n",
            " #   Column         Non-Null Count  Dtype  \n",
            "---  ------         --------------  -----  \n",
            " 0   title          4 non-null      object \n",
            " 1   price          4 non-null      float64\n",
            " 2   course_effort  4 non-null      object \n",
            " 3   n_enrolled     4 non-null      int64  \n",
            " 4   institution    4 non-null      object \n",
            "dtypes: float64(1), int64(1), object(3)\n",
            "memory usage: 288.0+ bytes\n"
          ]
        }
      ]
    },
    {
      "cell_type": "code",
      "source": [
        "comp_sci_query = pd.read_sql(''' SELECT title, price, course_effort, n_enrolled, institution\n",
        "                                 FROM edxcourses WHERE subject == 'Computer Science'\n",
        "                                 ORDER BY price DESC LIMIT 15 ''', edx_conn)\n",
        "comp_sci_query.info()"
      ],
      "metadata": {
        "colab": {
          "base_uri": "https://localhost:8080/"
        },
        "id": "81nWB8OpmmzG",
        "outputId": "751ad0fc-e742-4aa5-9efb-756f78bf04f8"
      },
      "execution_count": null,
      "outputs": [
        {
          "output_type": "stream",
          "name": "stdout",
          "text": [
            "<class 'pandas.core.frame.DataFrame'>\n",
            "RangeIndex: 15 entries, 0 to 14\n",
            "Data columns (total 5 columns):\n",
            " #   Column         Non-Null Count  Dtype  \n",
            "---  ------         --------------  -----  \n",
            " 0   title          15 non-null     object \n",
            " 1   price          15 non-null     float64\n",
            " 2   course_effort  15 non-null     object \n",
            " 3   n_enrolled     15 non-null     int64  \n",
            " 4   institution    15 non-null     object \n",
            "dtypes: float64(1), int64(1), object(3)\n",
            "memory usage: 728.0+ bytes\n"
          ]
        }
      ]
    },
    {
      "cell_type": "code",
      "source": [
        "sns.barplot(x = 'price', y = 'title', data = comp_sci_query, color = 'orange', edgecolor='black', ci=False)"
      ],
      "metadata": {
        "colab": {
          "base_uri": "https://localhost:8080/",
          "height": 296
        },
        "id": "RZ4lJxf3mti2",
        "outputId": "0b2dcbc6-e049-4f83-d830-76b3e8525712"
      },
      "execution_count": null,
      "outputs": [
        {
          "output_type": "execute_result",
          "data": {
            "text/plain": [
              "<matplotlib.axes._subplots.AxesSubplot at 0x7fbe5cd4b760>"
            ]
          },
          "metadata": {},
          "execution_count": 31
        },
        {
          "output_type": "display_data",
          "data": {
            "text/plain": [
              "<Figure size 432x288 with 1 Axes>"
            ],
            "image/png": "[encoded data removed]"
          },
          "metadata": {
            "needs_background": "light"
          }
        }
      ]
    },
    {
      "cell_type": "code",
      "source": [
        "sns.barplot(x = 'n_enrolled', y = 'title', data = comp_sci_query, color = 'orange', edgecolor='black', ci=False)"
      ],
      "metadata": {
        "colab": {
          "base_uri": "https://localhost:8080/",
          "height": 297
        },
        "id": "q52SDZ8Qmxgc",
        "outputId": "20e3d555-096d-486a-e1d4-e39a5d488003"
      },
      "execution_count": null,
      "outputs": [
        {
          "output_type": "execute_result",
          "data": {
            "text/plain": [
              "<matplotlib.axes._subplots.AxesSubplot at 0x7fbe5ce3ec70>"
            ]
          },
          "metadata": {},
          "execution_count": 32
        },
        {
          "output_type": "display_data",
          "data": {
            "text/plain": [
              "<Figure size 432x288 with 1 Axes>"
            ],
            "image/png": "[encoded data removed]"
          },
          "metadata": {
            "needs_background": "light"
          }
        }
      ]
    },
    {
      "cell_type": "code",
      "source": [
        "sns.barplot(x = 'price', y = 'n_enrolled', data = comp_sci_query, color = 'orange', edgecolor='black', ci=False)"
      ],
      "metadata": {
        "colab": {
          "base_uri": "https://localhost:8080/",
          "height": 300
        },
        "id": "vWghjblim4FR",
        "outputId": "f236d228-c5ea-495b-8440-556eef0ec8ee"
      },
      "execution_count": null,
      "outputs": [
        {
          "output_type": "execute_result",
          "data": {
            "text/plain": [
              "<matplotlib.axes._subplots.AxesSubplot at 0x7fbe5cc3fa00>"
            ]
          },
          "metadata": {},
          "execution_count": 33
        },
        {
          "output_type": "display_data",
          "data": {
            "text/plain": [
              "<Figure size 432x288 with 1 Axes>"
            ],
            "image/png": "[encoded data removed]"
          },
          "metadata": {
            "needs_background": "light"
          }
        }
      ]
    },
    {
      "cell_type": "code",
      "source": [
        "data_analysis_tot = pd.read_sql(''' SELECT SUM(n_enrolled) AS total_program_enrollment, COUNT(title) AS num_courses, AVG(price) AS avg_course_purchase, MIN(price) AS min_course_purchase, MAX(price) AS max_course_purchase\n",
        "                                    FROM edxcourses\n",
        "                                    WHERE subject == 'Data Analysis & Statistics'\n",
        "                                    ORDER BY price DESC ''', edx_conn)\n",
        "data_analysis_tot.info()"
      ],
      "metadata": {
        "colab": {
          "base_uri": "https://localhost:8080/"
        },
        "id": "0CWrBi25m7XP",
        "outputId": "e1119a84-a6fa-4d7f-99b7-013ffae380bb"
      },
      "execution_count": null,
      "outputs": [
        {
          "output_type": "stream",
          "name": "stdout",
          "text": [
            "<class 'pandas.core.frame.DataFrame'>\n",
            "RangeIndex: 1 entries, 0 to 0\n",
            "Data columns (total 5 columns):\n",
            " #   Column                    Non-Null Count  Dtype  \n",
            "---  ------                    --------------  -----  \n",
            " 0   total_program_enrollment  1 non-null      int64  \n",
            " 1   num_courses               1 non-null      int64  \n",
            " 2   avg_course_purchase       1 non-null      float64\n",
            " 3   min_course_purchase       1 non-null      float64\n",
            " 4   max_course_purchase       1 non-null      float64\n",
            "dtypes: float64(3), int64(2)\n",
            "memory usage: 168.0 bytes\n"
          ]
        }
      ]
    },
    {
      "cell_type": "code",
      "source": [
        "comp_sci_tot = pd.read_sql(''' SELECT SUM(n_enrolled) AS total_program_enrollment, COUNT(title) AS num_courses, AVG(price) AS avg_course_purchase, MIN(price) AS min_course_purchase, MAX(price) AS max_course_purchase\n",
        "                               FROM edxcourses\n",
        "                               WHERE subject == 'Computer Science'\n",
        "                               ORDER BY price DESC ''', edx_conn)\n",
        "comp_sci_tot.info()"
      ],
      "metadata": {
        "colab": {
          "base_uri": "https://localhost:8080/"
        },
        "id": "E3KxMK1tmqPJ",
        "outputId": "511e18df-4027-4b56-e1a7-5007150fc57d"
      },
      "execution_count": null,
      "outputs": [
        {
          "output_type": "stream",
          "name": "stdout",
          "text": [
            "<class 'pandas.core.frame.DataFrame'>\n",
            "RangeIndex: 1 entries, 0 to 0\n",
            "Data columns (total 5 columns):\n",
            " #   Column                    Non-Null Count  Dtype  \n",
            "---  ------                    --------------  -----  \n",
            " 0   total_program_enrollment  1 non-null      int64  \n",
            " 1   num_courses               1 non-null      int64  \n",
            " 2   avg_course_purchase       1 non-null      float64\n",
            " 3   min_course_purchase       1 non-null      float64\n",
            " 4   max_course_purchase       1 non-null      float64\n",
            "dtypes: float64(3), int64(2)\n",
            "memory usage: 168.0 bytes\n"
          ]
        }
      ]
    },
    {
      "cell_type": "code",
      "source": [
        "edx_tot = pd.read_sql(''' SELECT SUM(n_enrolled) AS total_edx_enrollment, COUNT(title) AS total_courses, AVG(price) AS total_avg\n",
        "                          FROM edxcourses\n",
        "                          ORDER BY price DESC ''', edx_conn)\n",
        "edx_tot.info()"
      ],
      "metadata": {
        "colab": {
          "base_uri": "https://localhost:8080/"
        },
        "id": "lfmNaEUznIT8",
        "outputId": "c9f4b165-7fef-4e0b-d2ed-eaa1b5f7373d"
      },
      "execution_count": null,
      "outputs": [
        {
          "output_type": "stream",
          "name": "stdout",
          "text": [
            "<class 'pandas.core.frame.DataFrame'>\n",
            "RangeIndex: 1 entries, 0 to 0\n",
            "Data columns (total 3 columns):\n",
            " #   Column                Non-Null Count  Dtype  \n",
            "---  ------                --------------  -----  \n",
            " 0   total_edx_enrollment  1 non-null      int64  \n",
            " 1   total_courses         1 non-null      int64  \n",
            " 2   total_avg             1 non-null      float64\n",
            "dtypes: float64(1), int64(2)\n",
            "memory usage: 152.0 bytes\n"
          ]
        }
      ]
    },
    {
      "cell_type": "code",
      "source": [
        "business_tot = pd.read_sql(''' SELECT SUM(n_enrolled) AS total_business_enrollment, COUNT(title) AS total_courses, AVG(price) AS avg_course_purchase, MIN(price) AS min_course_purchase, MAX(price) AS max_course_purchase \n",
        "                               FROM edxcourses\n",
        "                               WHERE subject == 'Business & Management'\n",
        "                               ORDER BY price DESC ''', edx_conn)\n",
        "business_tot.info()"
      ],
      "metadata": {
        "colab": {
          "base_uri": "https://localhost:8080/"
        },
        "id": "-l0mBkzwnO2c",
        "outputId": "1f0b3c6e-a5b5-42c7-8eaf-a0f7bfa69b69"
      },
      "execution_count": null,
      "outputs": [
        {
          "output_type": "stream",
          "name": "stdout",
          "text": [
            "<class 'pandas.core.frame.DataFrame'>\n",
            "RangeIndex: 1 entries, 0 to 0\n",
            "Data columns (total 5 columns):\n",
            " #   Column                     Non-Null Count  Dtype  \n",
            "---  ------                     --------------  -----  \n",
            " 0   total_business_enrollment  1 non-null      int64  \n",
            " 1   total_courses              1 non-null      int64  \n",
            " 2   avg_course_purchase        1 non-null      float64\n",
            " 3   min_course_purchase        1 non-null      float64\n",
            " 4   max_course_purchase        1 non-null      float64\n",
            "dtypes: float64(3), int64(2)\n",
            "memory usage: 168.0 bytes\n"
          ]
        }
      ]
    },
    {
      "cell_type": "code",
      "source": [
        "engineering_tot = pd.read_sql(''' SELECT SUM(n_enrolled) AS total_engineering_enrollment, COUNT(title) AS total_courses, AVG(price) AS avg_course_purchase, MIN(price) AS min_course_purchase, MAX(price) AS max_course_purchase\n",
        "                               FROM edxcourses\n",
        "                               WHERE subject == 'Engineering'\n",
        "                               ORDER BY price DESC ''', edx_conn)\n",
        "engineering_tot.info()"
      ],
      "metadata": {
        "colab": {
          "base_uri": "https://localhost:8080/"
        },
        "id": "OZ7R58z8nTrg",
        "outputId": "54e78be4-7714-4002-f1be-30cbfa1afd59"
      },
      "execution_count": null,
      "outputs": [
        {
          "output_type": "stream",
          "name": "stdout",
          "text": [
            "<class 'pandas.core.frame.DataFrame'>\n",
            "RangeIndex: 1 entries, 0 to 0\n",
            "Data columns (total 5 columns):\n",
            " #   Column                        Non-Null Count  Dtype  \n",
            "---  ------                        --------------  -----  \n",
            " 0   total_engineering_enrollment  1 non-null      int64  \n",
            " 1   total_courses                 1 non-null      int64  \n",
            " 2   avg_course_purchase           1 non-null      float64\n",
            " 3   min_course_purchase           1 non-null      float64\n",
            " 4   max_course_purchase           1 non-null      float64\n",
            "dtypes: float64(3), int64(2)\n",
            "memory usage: 168.0 bytes\n"
          ]
        }
      ]
    },
    {
      "cell_type": "code",
      "source": [
        "ed_tot = pd.read_sql(''' SELECT SUM(n_enrolled) AS total_education_enrollment, COUNT(title) AS total_courses, AVG(price) AS avg_course_purchase, MIN(price) AS min_course_purchase, MAX(price) AS max_course_purchase\n",
        "                               FROM edxcourses\n",
        "                               WHERE subject == 'Education & Teacher Training'\n",
        "                               ORDER BY price DESC ''', edx_conn)\n",
        "ed_tot.info()"
      ],
      "metadata": {
        "colab": {
          "base_uri": "https://localhost:8080/"
        },
        "id": "CDaL3_mCnavh",
        "outputId": "5a6c93b1-3188-4dd2-d6e6-df70c807f358"
      },
      "execution_count": null,
      "outputs": [
        {
          "output_type": "stream",
          "name": "stdout",
          "text": [
            "<class 'pandas.core.frame.DataFrame'>\n",
            "RangeIndex: 1 entries, 0 to 0\n",
            "Data columns (total 5 columns):\n",
            " #   Column                      Non-Null Count  Dtype  \n",
            "---  ------                      --------------  -----  \n",
            " 0   total_education_enrollment  1 non-null      int64  \n",
            " 1   total_courses               1 non-null      int64  \n",
            " 2   avg_course_purchase         1 non-null      float64\n",
            " 3   min_course_purchase         1 non-null      float64\n",
            " 4   max_course_purchase         1 non-null      float64\n",
            "dtypes: float64(3), int64(2)\n",
            "memory usage: 168.0 bytes\n"
          ]
        }
      ]
    },
    {
      "cell_type": "code",
      "source": [
        "law_tot = pd.read_sql(''' SELECT SUM(n_enrolled) AS total_law_enrollment, COUNT(title) AS total_courses, AVG(price) AS avg_course_purchase, MIN(price) AS min_course_purchase, MAX(price) AS max_course_purchase\n",
        "                               FROM edxcourses\n",
        "                               WHERE subject == 'Law'\n",
        "                               ORDER BY price DESC ''', edx_conn)\n",
        "law_tot.info()"
      ],
      "metadata": {
        "colab": {
          "base_uri": "https://localhost:8080/"
        },
        "id": "VoKSB8i1nfvV",
        "outputId": "c9d3ae6b-0472-4990-c987-3aebf9494f22"
      },
      "execution_count": null,
      "outputs": [
        {
          "output_type": "stream",
          "name": "stdout",
          "text": [
            "<class 'pandas.core.frame.DataFrame'>\n",
            "RangeIndex: 1 entries, 0 to 0\n",
            "Data columns (total 5 columns):\n",
            " #   Column                Non-Null Count  Dtype  \n",
            "---  ------                --------------  -----  \n",
            " 0   total_law_enrollment  1 non-null      int64  \n",
            " 1   total_courses         1 non-null      int64  \n",
            " 2   avg_course_purchase   1 non-null      float64\n",
            " 3   min_course_purchase   1 non-null      float64\n",
            " 4   max_course_purchase   1 non-null      float64\n",
            "dtypes: float64(3), int64(2)\n",
            "memory usage: 168.0 bytes\n"
          ]
        }
      ]
    },
    {
      "cell_type": "code",
      "source": [
        "econ_tot = pd.read_sql(''' SELECT SUM(n_enrolled) AS total_economics_enrollment, COUNT(title) AS total_courses, AVG(price) AS avg_course_purchase, MIN(price) AS min_course_purchase, MAX(price) AS max_course_purchase\n",
        "                               FROM edxcourses\n",
        "                               WHERE subject == 'Economics & Finance'\n",
        "                               ORDER BY price DESC ''', edx_conn)\n",
        "econ_tot.info()"
      ],
      "metadata": {
        "colab": {
          "base_uri": "https://localhost:8080/"
        },
        "id": "g2w-kjXamPXX",
        "outputId": "ce4bd6e9-85dc-4d14-c8da-91803d9c6cd5"
      },
      "execution_count": null,
      "outputs": [
        {
          "output_type": "stream",
          "name": "stdout",
          "text": [
            "<class 'pandas.core.frame.DataFrame'>\n",
            "RangeIndex: 1 entries, 0 to 0\n",
            "Data columns (total 5 columns):\n",
            " #   Column                      Non-Null Count  Dtype  \n",
            "---  ------                      --------------  -----  \n",
            " 0   total_economics_enrollment  1 non-null      int64  \n",
            " 1   total_courses               1 non-null      int64  \n",
            " 2   avg_course_purchase         1 non-null      float64\n",
            " 3   min_course_purchase         1 non-null      float64\n",
            " 4   max_course_purchase         1 non-null      float64\n",
            "dtypes: float64(3), int64(2)\n",
            "memory usage: 168.0 bytes\n"
          ]
        }
      ]
    },
    {
      "cell_type": "code",
      "source": [
        "by_subject = pd.read_sql(''' SELECT subject, COUNT(subject) AS subject_count,\n",
        "                             100 * COUNT(subject) / (SELECT COUNT(*) FROM edxcourses) AS subject_pct\n",
        "                             FROM edxcourses\n",
        "                             GROUP BY subject\n",
        "                             ORDER BY subject_pct DESC LIMIT 10''', edx_conn)\n",
        "by_subject.info()"
      ],
      "metadata": {
        "colab": {
          "base_uri": "https://localhost:8080/"
        },
        "id": "RAmku7X1ns4q",
        "outputId": "8481d0bc-25e1-437b-dc40-991b1e1a7978"
      },
      "execution_count": null,
      "outputs": [
        {
          "output_type": "stream",
          "name": "stdout",
          "text": [
            "<class 'pandas.core.frame.DataFrame'>\n",
            "RangeIndex: 10 entries, 0 to 9\n",
            "Data columns (total 3 columns):\n",
            " #   Column         Non-Null Count  Dtype \n",
            "---  ------         --------------  ----- \n",
            " 0   subject        10 non-null     object\n",
            " 1   subject_count  10 non-null     int64 \n",
            " 2   subject_pct    10 non-null     int64 \n",
            "dtypes: int64(2), object(1)\n",
            "memory usage: 368.0+ bytes\n"
          ]
        }
      ]
    },
    {
      "cell_type": "code",
      "source": [
        "by_subject_csv = by_subject.to_csv('by_subject_csv.csv')"
      ],
      "metadata": {
        "id": "AxJ8LZWOn3lL"
      },
      "execution_count": null,
      "outputs": []
    },
    {
      "cell_type": "code",
      "source": [
        "sns.barplot(x = 'subject_pct', y = 'subject', data = by_subject, color = 'red', edgecolor='black', ci=False)"
      ],
      "metadata": {
        "colab": {
          "base_uri": "https://localhost:8080/",
          "height": 297
        },
        "id": "kco6GRfnn-DS",
        "outputId": "3798cdb6-e18f-4d60-ffbe-b30ea4742960"
      },
      "execution_count": null,
      "outputs": [
        {
          "output_type": "execute_result",
          "data": {
            "text/plain": [
              "<matplotlib.axes._subplots.AxesSubplot at 0x7fbe5cb84b20>"
            ]
          },
          "metadata": {},
          "execution_count": 48
        },
        {
          "output_type": "display_data",
          "data": {
            "text/plain": [
              "<Figure size 432x288 with 1 Axes>"
            ],
            "image/png": "[encoded data removed]"
          },
          "metadata": {
            "needs_background": "light"
          }
        }
      ]
    },
    {
      "cell_type": "code",
      "source": [
        "edx_by_price = pd.read_sql(''' SELECT price, COUNT(price) AS price_count,\n",
        "                           100 * COUNT(price) / (SELECT COUNT(*) FROM edxcourses) AS price_pct\n",
        "                           FROM edxcourses\n",
        "                           GROUP BY price\n",
        "                           ORDER BY price_pct DESC LIMIT 10 ''', edx_conn)\n",
        "edx_by_price.info()"
      ],
      "metadata": {
        "colab": {
          "base_uri": "https://localhost:8080/"
        },
        "id": "zxv7o0HboFW4",
        "outputId": "bd687239-d895-4aa1-814d-c7ff38e5db85"
      },
      "execution_count": null,
      "outputs": [
        {
          "output_type": "stream",
          "name": "stdout",
          "text": [
            "<class 'pandas.core.frame.DataFrame'>\n",
            "RangeIndex: 10 entries, 0 to 9\n",
            "Data columns (total 3 columns):\n",
            " #   Column       Non-Null Count  Dtype  \n",
            "---  ------       --------------  -----  \n",
            " 0   price        10 non-null     float64\n",
            " 1   price_count  10 non-null     int64  \n",
            " 2   price_pct    10 non-null     int64  \n",
            "dtypes: float64(1), int64(2)\n",
            "memory usage: 368.0 bytes\n"
          ]
        }
      ]
    },
    {
      "cell_type": "code",
      "source": [
        "edx_price_pct_csv = edx_by_price.to_csv('edx_price_pct.csv')"
      ],
      "metadata": {
        "id": "FxxG2kMwoPF_"
      },
      "execution_count": null,
      "outputs": []
    },
    {
      "cell_type": "code",
      "source": [
        "sns.barplot(x = 'price', y = 'price_pct', data = edx_by_price, color = 'red', edgecolor='black', ci=False)"
      ],
      "metadata": {
        "colab": {
          "base_uri": "https://localhost:8080/",
          "height": 296
        },
        "id": "EQkZrVZpoSGz",
        "outputId": "dc81937e-58cb-4b42-b17f-407345f30dd3"
      },
      "execution_count": null,
      "outputs": [
        {
          "output_type": "execute_result",
          "data": {
            "text/plain": [
              "<matplotlib.axes._subplots.AxesSubplot at 0x7fbe5cb599d0>"
            ]
          },
          "metadata": {},
          "execution_count": 51
        },
        {
          "output_type": "display_data",
          "data": {
            "text/plain": [
              "<Figure size 432x288 with 1 Axes>"
            ],
            "image/png": "[encoded data removed]"
          },
          "metadata": {
            "needs_background": "light"
          }
        }
      ]
    },
    {
      "cell_type": "code",
      "source": [
        "by_course_effort = pd.read_sql(''' SELECT course_effort, COUNT(course_effort) AS num_hours, \n",
        "                                   100 * COUNT(course_effort) / (SELECT COUNT(*) FROM edxcourses) AS hours_pct\n",
        "                                   FROM edxcourses \n",
        "                                   GROUP BY course_effort\n",
        "                                   ORDER BY hours_pct DESC LIMIT 10 ''', edx_conn)\n",
        "by_course_effort.info()"
      ],
      "metadata": {
        "colab": {
          "base_uri": "https://localhost:8080/"
        },
        "id": "-QmUfdQnoVHj",
        "outputId": "9299fa8c-3e46-4b8d-ecff-6a93b749b597"
      },
      "execution_count": null,
      "outputs": [
        {
          "output_type": "stream",
          "name": "stdout",
          "text": [
            "<class 'pandas.core.frame.DataFrame'>\n",
            "RangeIndex: 10 entries, 0 to 9\n",
            "Data columns (total 3 columns):\n",
            " #   Column         Non-Null Count  Dtype \n",
            "---  ------         --------------  ----- \n",
            " 0   course_effort  10 non-null     object\n",
            " 1   num_hours      10 non-null     int64 \n",
            " 2   hours_pct      10 non-null     int64 \n",
            "dtypes: int64(2), object(1)\n",
            "memory usage: 368.0+ bytes\n"
          ]
        }
      ]
    },
    {
      "cell_type": "code",
      "source": [
        "sns.barplot(x = 'hours_pct', y = 'course_effort', data = by_course_effort, color = 'red', edgecolor='black', ci=False)"
      ],
      "metadata": {
        "colab": {
          "base_uri": "https://localhost:8080/",
          "height": 297
        },
        "id": "d72lax2DoiEc",
        "outputId": "2c06ce17-f7d9-4ec5-bf14-12a871edac35"
      },
      "execution_count": null,
      "outputs": [
        {
          "output_type": "execute_result",
          "data": {
            "text/plain": [
              "<matplotlib.axes._subplots.AxesSubplot at 0x7fbe5cdb8d60>"
            ]
          },
          "metadata": {},
          "execution_count": 53
        },
        {
          "output_type": "display_data",
          "data": {
            "text/plain": [
              "<Figure size 432x288 with 1 Axes>"
            ],
            "image/png": "[encoded data removed]"
          },
          "metadata": {
            "needs_background": "light"
          }
        }
      ]
    },
    {
      "cell_type": "code",
      "source": [
        "by_institution = pd.read_sql(''' SELECT institution, COUNT(institution) AS institution_count,\n",
        "                                 100 * COUNT(institution) / (SELECT COUNT(*) FROM edxcourses) AS institution_pct\n",
        "                                 FROM edxcourses\n",
        "                                 GROUP BY institution\n",
        "                                 ORDER BY institution_pct DESC LIMIT 10''', edx_conn)\n",
        "by_institution.info()"
      ],
      "metadata": {
        "colab": {
          "base_uri": "https://localhost:8080/"
        },
        "id": "Vm24RdrKomGh",
        "outputId": "a47dea48-d436-40f3-db30-58a9c414e6b2"
      },
      "execution_count": null,
      "outputs": [
        {
          "output_type": "stream",
          "name": "stdout",
          "text": [
            "<class 'pandas.core.frame.DataFrame'>\n",
            "RangeIndex: 10 entries, 0 to 9\n",
            "Data columns (total 3 columns):\n",
            " #   Column             Non-Null Count  Dtype \n",
            "---  ------             --------------  ----- \n",
            " 0   institution        10 non-null     object\n",
            " 1   institution_count  10 non-null     int64 \n",
            " 2   institution_pct    10 non-null     int64 \n",
            "dtypes: int64(2), object(1)\n",
            "memory usage: 368.0+ bytes\n"
          ]
        }
      ]
    },
    {
      "cell_type": "code",
      "source": [
        "sns.barplot(x = 'institution_pct', y = 'institution', data = by_institution, color = 'red', edgecolor='black', ci=False)"
      ],
      "metadata": {
        "colab": {
          "base_uri": "https://localhost:8080/",
          "height": 297
        },
        "id": "CjvALRr1o2cv",
        "outputId": "a054d80c-7633-425a-d3a2-024974c04657"
      },
      "execution_count": null,
      "outputs": [
        {
          "output_type": "execute_result",
          "data": {
            "text/plain": [
              "<matplotlib.axes._subplots.AxesSubplot at 0x7fbe5c9c6970>"
            ]
          },
          "metadata": {},
          "execution_count": 55
        },
        {
          "output_type": "display_data",
          "data": {
            "text/plain": [
              "<Figure size 432x288 with 1 Axes>"
            ],
            "image/png": "[encoded data removed]"
          },
          "metadata": {
            "needs_background": "light"
          }
        }
      ]
    },
    {
      "cell_type": "code",
      "source": [
        "by_institution_dsc = pd.read_sql(''' SELECT institution, COUNT(institution) AS institution_count,\n",
        "                                 100 * COUNT(institution) / (SELECT COUNT(*) FROM edxcourses) AS institution_pct\n",
        "                                 FROM edxcourses\n",
        "                                 WHERe subject == 'Data Analysis & Statistics'\n",
        "                                 GROUP BY institution\n",
        "                                 ORDER BY institution_count DESC LIMIT 10''', edx_conn)\n",
        "by_institution_dsc.info()"
      ],
      "metadata": {
        "colab": {
          "base_uri": "https://localhost:8080/"
        },
        "id": "0CS4S7qHo5oZ",
        "outputId": "d36a04d5-6239-4438-db70-1f49f7a86f7d"
      },
      "execution_count": null,
      "outputs": [
        {
          "output_type": "stream",
          "name": "stdout",
          "text": [
            "<class 'pandas.core.frame.DataFrame'>\n",
            "RangeIndex: 10 entries, 0 to 9\n",
            "Data columns (total 3 columns):\n",
            " #   Column             Non-Null Count  Dtype \n",
            "---  ------             --------------  ----- \n",
            " 0   institution        10 non-null     object\n",
            " 1   institution_count  10 non-null     int64 \n",
            " 2   institution_pct    10 non-null     int64 \n",
            "dtypes: int64(2), object(1)\n",
            "memory usage: 368.0+ bytes\n"
          ]
        }
      ]
    },
    {
      "cell_type": "code",
      "source": [
        "sns.barplot(x = 'institution_count', y = 'institution', data = by_institution_dsc, color = 'red', edgecolor='black', ci=False)"
      ],
      "metadata": {
        "colab": {
          "base_uri": "https://localhost:8080/",
          "height": 297
        },
        "id": "a4hbrOaopAPZ",
        "outputId": "0ed633bd-68cf-4a38-d229-7052a3b95cfb"
      },
      "execution_count": null,
      "outputs": [
        {
          "output_type": "execute_result",
          "data": {
            "text/plain": [
              "<matplotlib.axes._subplots.AxesSubplot at 0x7fbe5c95b4f0>"
            ]
          },
          "metadata": {},
          "execution_count": 57
        },
        {
          "output_type": "display_data",
          "data": {
            "text/plain": [
              "<Figure size 432x288 with 1 Axes>"
            ],
            "image/png": "[encoded data removed]"
          },
          "metadata": {
            "needs_background": "light"
          }
        }
      ]
    },
    {
      "cell_type": "code",
      "source": [
        "by_institution_comp_sci = pd.read_sql(''' SELECT institution, COUNT(institution) AS institution_count,\n",
        "                                 100 * COUNT(institution) / (SELECT COUNT(*) FROM edxcourses) AS institution_pct\n",
        "                                 FROM edxcourses\n",
        "                                 WHERe subject == 'Computer Science'\n",
        "                                 GROUP BY institution\n",
        "                                 ORDER BY institution_count DESC LIMIT 10''', edx_conn)\n",
        "by_institution_comp_sci.info()"
      ],
      "metadata": {
        "colab": {
          "base_uri": "https://localhost:8080/"
        },
        "id": "ipXKA-NapESc",
        "outputId": "3ad66885-1088-43fc-c066-47e62da80d13"
      },
      "execution_count": null,
      "outputs": [
        {
          "output_type": "stream",
          "name": "stdout",
          "text": [
            "<class 'pandas.core.frame.DataFrame'>\n",
            "RangeIndex: 10 entries, 0 to 9\n",
            "Data columns (total 3 columns):\n",
            " #   Column             Non-Null Count  Dtype \n",
            "---  ------             --------------  ----- \n",
            " 0   institution        10 non-null     object\n",
            " 1   institution_count  10 non-null     int64 \n",
            " 2   institution_pct    10 non-null     int64 \n",
            "dtypes: int64(2), object(1)\n",
            "memory usage: 368.0+ bytes\n"
          ]
        }
      ]
    },
    {
      "cell_type": "code",
      "source": [
        "sns.barplot(x = 'institution_count', y = 'institution', data = by_institution_comp_sci, color = 'red', edgecolor='black', ci=False)"
      ],
      "metadata": {
        "colab": {
          "base_uri": "https://localhost:8080/",
          "height": 297
        },
        "id": "oHr6Uea7pNbX",
        "outputId": "34905309-a1e9-4433-bf32-5aa170f3c1c9"
      },
      "execution_count": null,
      "outputs": [
        {
          "output_type": "execute_result",
          "data": {
            "text/plain": [
              "<matplotlib.axes._subplots.AxesSubplot at 0x7fbe5c8fde50>"
            ]
          },
          "metadata": {},
          "execution_count": 59
        },
        {
          "output_type": "display_data",
          "data": {
            "text/plain": [
              "<Figure size 432x288 with 1 Axes>"
            ],
            "image/png": "[encoded data removed]"
          },
          "metadata": {
            "needs_background": "light"
          }
        }
      ]
    },
    {
      "cell_type": "code",
      "source": [
        "subject_hundred = pd.read_sql(''' SELECT subject, AVG(price) as avg_price_subject\n",
        "                                  FROM edxcourses\n",
        "                                  WHERE price > 100.0 \n",
        "                                  GROUP BY subject\n",
        "                                  ORDER BY avg_price_subject DESC LIMIT 10''', edx_conn)\n",
        "subject_hundred = subject_hundred.round(2)\n",
        "subject_hundred.info()"
      ],
      "metadata": {
        "colab": {
          "base_uri": "https://localhost:8080/"
        },
        "id": "EajKI6a-px2-",
        "outputId": "a32dc153-0f60-4083-ea97-4c2484248159"
      },
      "execution_count": null,
      "outputs": [
        {
          "output_type": "stream",
          "name": "stdout",
          "text": [
            "<class 'pandas.core.frame.DataFrame'>\n",
            "RangeIndex: 10 entries, 0 to 9\n",
            "Data columns (total 2 columns):\n",
            " #   Column             Non-Null Count  Dtype  \n",
            "---  ------             --------------  -----  \n",
            " 0   subject            10 non-null     object \n",
            " 1   avg_price_subject  10 non-null     float64\n",
            "dtypes: float64(1), object(1)\n",
            "memory usage: 288.0+ bytes\n"
          ]
        }
      ]
    },
    {
      "cell_type": "code",
      "source": [
        "sns.barplot(x = 'avg_price_subject', y = 'subject', data = subject_hundred, color = 'purple', edgecolor='black', ci=False)"
      ],
      "metadata": {
        "colab": {
          "base_uri": "https://localhost:8080/",
          "height": 297
        },
        "id": "waRshzOep4zU",
        "outputId": "e9ac0543-233d-4385-c1f4-20571e39fe63"
      },
      "execution_count": null,
      "outputs": [
        {
          "output_type": "execute_result",
          "data": {
            "text/plain": [
              "<matplotlib.axes._subplots.AxesSubplot at 0x7fbe5c8d19d0>"
            ]
          },
          "metadata": {},
          "execution_count": 62
        },
        {
          "output_type": "display_data",
          "data": {
            "text/plain": [
              "<Figure size 432x288 with 1 Axes>"
            ],
            "image/png": "[encoded data removed]"
          },
          "metadata": {
            "needs_background": "light"
          }
        }
      ]
    },
    {
      "cell_type": "code",
      "source": [
        "by_enroll = pd.read_sql(''' SELECT subject, SUM(n_enrolled) AS total_enrollment\n",
        "                          FROM edxcourses \n",
        "                          GROUP BY subject\n",
        "                          ORDER BY total_enrollment DESC LIMIT 10 ''', edx_conn)\n",
        "by_enroll.info()"
      ],
      "metadata": {
        "colab": {
          "base_uri": "https://localhost:8080/"
        },
        "id": "rEcjdW6uqFMb",
        "outputId": "fde44bc2-0264-4cae-fb41-06663995f515"
      },
      "execution_count": null,
      "outputs": [
        {
          "output_type": "stream",
          "name": "stdout",
          "text": [
            "<class 'pandas.core.frame.DataFrame'>\n",
            "RangeIndex: 10 entries, 0 to 9\n",
            "Data columns (total 2 columns):\n",
            " #   Column            Non-Null Count  Dtype \n",
            "---  ------            --------------  ----- \n",
            " 0   subject           10 non-null     object\n",
            " 1   total_enrollment  10 non-null     int64 \n",
            "dtypes: int64(1), object(1)\n",
            "memory usage: 288.0+ bytes\n"
          ]
        }
      ]
    },
    {
      "cell_type": "code",
      "source": [
        "by_enroll_csv = by_enroll.to_csv('by_enroll.csv')"
      ],
      "metadata": {
        "id": "0uhrrNBEp0oF"
      },
      "execution_count": null,
      "outputs": []
    },
    {
      "cell_type": "code",
      "source": [
        "sns.barplot(x = 'total_enrollment', y = 'subject', data = by_enroll, color = 'purple', edgecolor='black', ci=False)"
      ],
      "metadata": {
        "colab": {
          "base_uri": "https://localhost:8080/",
          "height": 297
        },
        "id": "HQ05Zs0foMEX",
        "outputId": "b8870229-3471-4fc5-a22c-7d76aa80e709"
      },
      "execution_count": null,
      "outputs": [
        {
          "output_type": "execute_result",
          "data": {
            "text/plain": [
              "<matplotlib.axes._subplots.AxesSubplot at 0x7fbe5c79f580>"
            ]
          },
          "metadata": {},
          "execution_count": 65
        },
        {
          "output_type": "display_data",
          "data": {
            "text/plain": [
              "<Figure size 432x288 with 1 Axes>"
            ],
            "image/png": "[encoded data removed]"
          },
          "metadata": {
            "needs_background": "light"
          }
        }
      ]
    },
    {
      "cell_type": "code",
      "source": [
        "by_avg_enroll = pd.read_sql(''' SELECT subject, AVG(n_enrolled) AS avg_enrollment\n",
        "                          FROM edxcourses \n",
        "                          GROUP BY subject\n",
        "                          ORDER BY avg_enrollment DESC LIMIT 10 ''', edx_conn)\n",
        "by_avg_enroll.info()"
      ],
      "metadata": {
        "colab": {
          "base_uri": "https://localhost:8080/"
        },
        "id": "E4QOyBlAnxqw",
        "outputId": "40490f52-6a9c-407d-abc4-723327fbad58"
      },
      "execution_count": null,
      "outputs": [
        {
          "output_type": "stream",
          "name": "stdout",
          "text": [
            "<class 'pandas.core.frame.DataFrame'>\n",
            "RangeIndex: 10 entries, 0 to 9\n",
            "Data columns (total 2 columns):\n",
            " #   Column          Non-Null Count  Dtype  \n",
            "---  ------          --------------  -----  \n",
            " 0   subject         10 non-null     object \n",
            " 1   avg_enrollment  10 non-null     float64\n",
            "dtypes: float64(1), object(1)\n",
            "memory usage: 288.0+ bytes\n"
          ]
        }
      ]
    },
    {
      "cell_type": "code",
      "source": [
        "sns.barplot(x = 'avg_enrollment', y = 'subject', data = by_avg_enroll, color = 'purple', edgecolor='black', ci=False)"
      ],
      "metadata": {
        "colab": {
          "base_uri": "https://localhost:8080/",
          "height": 297
        },
        "id": "khXK4rhbqfF4",
        "outputId": "9dcbc06b-d10b-4cc2-cbef-52f84cec2db7"
      },
      "execution_count": null,
      "outputs": [
        {
          "output_type": "execute_result",
          "data": {
            "text/plain": [
              "<matplotlib.axes._subplots.AxesSubplot at 0x7fbe5c73b940>"
            ]
          },
          "metadata": {},
          "execution_count": 67
        },
        {
          "output_type": "display_data",
          "data": {
            "text/plain": [
              "<Figure size 432x288 with 1 Axes>"
            ],
            "image/png": "[encoded data removed]"
          },
          "metadata": {
            "needs_background": "light"
          }
        }
      ]
    },
    {
      "cell_type": "code",
      "source": [],
      "metadata": {
        "id": "OdYFgTG5qibN"
      },
      "execution_count": null,
      "outputs": []
    },
    {
      "cell_type": "code",
      "source": [],
      "metadata": {
        "colab": {
          "base_uri": "https://localhost:8080/",
          "height": 38
        },
        "id": "UMT-3Fnuti9D",
        "outputId": "f4054739-9fc2-4720-f155-f9d7ea906c19"
      },
      "execution_count": null,
      "outputs": [
        {
          "output_type": "display_data",
          "data": {
            "text/plain": [
              "<IPython.core.display.HTML object>"
            ],
            "text/html": [
              "\n",
              "     <input type=\"file\" id=\"files-7889a2db-672e-444a-be6c-8429862542f6\" name=\"files[]\" multiple disabled\n",
              "        style=\"border:none\" />\n",
              "     <output id=\"result-7889a2db-672e-444a-be6c-8429862542f6\">\n",
              "      Upload widget is only available when the cell has been executed in the\n",
              "      current browser session. Please rerun this cell to enable.\n",
              "      </output>\n",
              "      <script>// Copyright 2017 Google LLC\n",
              "//\n",
              "// Licensed under the Apache License, Version 2.0 (the \"License\");\n",
              "// you may not use this file except in compliance with the License.\n",
              "// You may obtain a copy of the License at\n",
              "//\n",
              "//      http://www.apache.org/licenses/LICENSE-2.0\n",
              "//\n",
              "// Unless required by applicable law or agreed to in writing, software\n",
              "// distributed under the License is distributed on an \"AS IS\" BASIS,\n",
              "// WITHOUT WARRANTIES OR CONDITIONS OF ANY KIND, either express or implied.\n",
              "// See the License for the specific language governing permissions and\n",
              "// limitations under the License.\n",
              "\n",
              "/**\n",
              " * @fileoverview Helpers for google.colab Python module.\n",
              " */\n",
              "(function(scope) {\n",
              "function span(text, styleAttributes = {}) {\n",
              "  const element = document.createElement('span');\n",
              "  element.textContent = text;\n",
              "  for (const key of Object.keys(styleAttributes)) {\n",
              "    element.style[key] = styleAttributes[key];\n",
              "  }\n",
              "  return element;\n",
              "}\n",
              "\n",
              "// Max number of bytes which will be uploaded at a time.\n",
              "const MAX_PAYLOAD_SIZE = 100 * 1024;\n",
              "\n",
              "function _uploadFiles(inputId, outputId) {\n",
              "  const steps = uploadFilesStep(inputId, outputId);\n",
              "  const outputElement = document.getElementById(outputId);\n",
              "  // Cache steps on the outputElement to make it available for the next call\n",
              "  // to uploadFilesContinue from Python.\n",
              "  outputElement.steps = steps;\n",
              "\n",
              "  return _uploadFilesContinue(outputId);\n",
              "}\n",
              "\n",
              "// This is roughly an async generator (not supported in the browser yet),\n",
              "// where there are multiple asynchronous steps and the Python side is going\n",
              "// to poll for completion of each step.\n",
              "// This uses a Promise to block the python side on completion of each step,\n",
              "// then passes the result of the previous step as the input to the next step.\n",
              "function _uploadFilesContinue(outputId) {\n",
              "  const outputElement = document.getElementById(outputId);\n",
              "  const steps = outputElement.steps;\n",
              "\n",
              "  const next = steps.next(outputElement.lastPromiseValue);\n",
              "  return Promise.resolve(next.value.promise).then((value) => {\n",
              "    // Cache the last promise value to make it available to the next\n",
              "    // step of the generator.\n",
              "    outputElement.lastPromiseValue = value;\n",
              "    return next.value.response;\n",
              "  });\n",
              "}\n",
              "\n",
              "/**\n",
              " * Generator function which is called between each async step of the upload\n",
              " * process.\n",
              " * @param {string} inputId Element ID of the input file picker element.\n",
              " * @param {string} outputId Element ID of the output display.\n",
              " * @return {!Iterable<!Object>} Iterable of next steps.\n",
              " */\n",
              "function* uploadFilesStep(inputId, outputId) {\n",
              "  const inputElement = document.getElementById(inputId);\n",
              "  inputElement.disabled = false;\n",
              "\n",
              "  const outputElement = document.getElementById(outputId);\n",
              "  outputElement.innerHTML = '';\n",
              "\n",
              "  const pickedPromise = new Promise((resolve) => {\n",
              "    inputElement.addEventListener('change', (e) => {\n",
              "      resolve(e.target.files);\n",
              "    });\n",
              "  });\n",
              "\n",
              "  const cancel = document.createElement('button');\n",
              "  inputElement.parentElement.appendChild(cancel);\n",
              "  cancel.textContent = 'Cancel upload';\n",
              "  const cancelPromise = new Promise((resolve) => {\n",
              "    cancel.onclick = () => {\n",
              "      resolve(null);\n",
              "    };\n",
              "  });\n",
              "\n",
              "  // Wait for the user to pick the files.\n",
              "  const files = yield {\n",
              "    promise: Promise.race([pickedPromise, cancelPromise]),\n",
              "    response: {\n",
              "      action: 'starting',\n",
              "    }\n",
              "  };\n",
              "\n",
              "  cancel.remove();\n",
              "\n",
              "  // Disable the input element since further picks are not allowed.\n",
              "  inputElement.disabled = true;\n",
              "\n",
              "  if (!files) {\n",
              "    return {\n",
              "      response: {\n",
              "        action: 'complete',\n",
              "      }\n",
              "    };\n",
              "  }\n",
              "\n",
              "  for (const file of files) {\n",
              "    const li = document.createElement('li');\n",
              "    li.append(span(file.name, {fontWeight: 'bold'}));\n",
              "    li.append(span(\n",
              "        `(${file.type || 'n/a'}) - ${file.size} bytes, ` +\n",
              "        `last modified: ${\n",
              "            file.lastModifiedDate ? file.lastModifiedDate.toLocaleDateString() :\n",
              "                                    'n/a'} - `));\n",
              "    const percent = span('0% done');\n",
              "    li.appendChild(percent);\n",
              "\n",
              "    outputElement.appendChild(li);\n",
              "\n",
              "    const fileDataPromise = new Promise((resolve) => {\n",
              "      const reader = new FileReader();\n",
              "      reader.onload = (e) => {\n",
              "        resolve(e.target.result);\n",
              "      };\n",
              "      reader.readAsArrayBuffer(file);\n",
              "    });\n",
              "    // Wait for the data to be ready.\n",
              "    let fileData = yield {\n",
              "      promise: fileDataPromise,\n",
              "      response: {\n",
              "        action: 'continue',\n",
              "      }\n",
              "    };\n",
              "\n",
              "    // Use a chunked sending to avoid message size limits. See b/62115660.\n",
              "    let position = 0;\n",
              "    do {\n",
              "      const length = Math.min(fileData.byteLength - position, MAX_PAYLOAD_SIZE);\n",
              "      const chunk = new Uint8Array(fileData, position, length);\n",
              "      position += length;\n",
              "\n",
              "      const base64 = btoa(String.fromCharCode.apply(null, chunk));\n",
              "      yield {\n",
              "        response: {\n",
              "          action: 'append',\n",
              "          file: file.name,\n",
              "          data: base64,\n",
              "        },\n",
              "      };\n",
              "\n",
              "      let percentDone = fileData.byteLength === 0 ?\n",
              "          100 :\n",
              "          Math.round((position / fileData.byteLength) * 100);\n",
              "      percent.textContent = `${percentDone}% done`;\n",
              "\n",
              "    } while (position < fileData.byteLength);\n",
              "  }\n",
              "\n",
              "  // All done.\n",
              "  yield {\n",
              "    response: {\n",
              "      action: 'complete',\n",
              "    }\n",
              "  };\n",
              "}\n",
              "\n",
              "scope.google = scope.google || {};\n",
              "scope.google.colab = scope.google.colab || {};\n",
              "scope.google.colab._files = {\n",
              "  _uploadFiles,\n",
              "  _uploadFilesContinue,\n",
              "};\n",
              "})(self);\n",
              "</script> "
            ]
          },
          "metadata": {}
        }
      ]
    }
  ]
}